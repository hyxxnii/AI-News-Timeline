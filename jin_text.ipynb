{
 "cells": [
  {
   "cell_type": "markdown",
   "metadata": {
    "id": "b3qY_20h7paH"
   },
   "source": [
    "# 진현영의 텍스트분석 코드"
   ]
  },
  {
   "cell_type": "markdown",
   "metadata": {
    "id": "ZfAlCm5K7zEh"
   },
   "source": [
    "## 전처리"
   ]
  },
  {
   "cell_type": "code",
   "execution_count": 1,
   "metadata": {
    "executionInfo": {
     "elapsed": 957,
     "status": "ok",
     "timestamp": 1610195903403,
     "user": {
      "displayName": "진현영",
      "photoUrl": "https://lh5.googleusercontent.com/-JblkEZU_9CA/AAAAAAAAAAI/AAAAAAAAA9E/pPczc2xYDZs/s64/photo.jpg",
      "userId": "17511610036703028721"
     },
     "user_tz": -540
    },
    "id": "t95oiS3I7Cby"
   },
   "outputs": [],
   "source": [
    "import io\n",
    "import pandas as pd\n",
    "import numpy as np"
   ]
  },
  {
   "cell_type": "code",
   "execution_count": 11,
   "metadata": {
    "executionInfo": {
     "elapsed": 1786,
     "status": "ok",
     "timestamp": 1610195904985,
     "user": {
      "displayName": "진현영",
      "photoUrl": "https://lh5.googleusercontent.com/-JblkEZU_9CA/AAAAAAAAAAI/AAAAAAAAA9E/pPczc2xYDZs/s64/photo.jpg",
      "userId": "17511610036703028721"
     },
     "user_tz": -540
    },
    "id": "Kq2ZzyVJ6Yhq"
   },
   "outputs": [],
   "source": [
    "# data load\n",
    "card_df = pd.read_csv('data/hyun_card.csv', encoding='CP949')"
   ]
  },
  {
   "cell_type": "code",
   "execution_count": 22,
   "metadata": {
    "colab": {
     "base_uri": "https://localhost:8080/",
     "height": 203
    },
    "executionInfo": {
     "elapsed": 1055,
     "status": "ok",
     "timestamp": 1610195904989,
     "user": {
      "displayName": "진현영",
      "photoUrl": "https://lh5.googleusercontent.com/-JblkEZU_9CA/AAAAAAAAAAI/AAAAAAAAA9E/pPczc2xYDZs/s64/photo.jpg",
      "userId": "17511610036703028721"
     },
     "user_tz": -540
    },
    "id": "GPIoJ1oI7AV4",
    "outputId": "e571fa71-7a42-45ed-cc57-ed53c7c9d7d8"
   },
   "outputs": [
    {
     "data": {
      "text/html": [
       "<div>\n",
       "<style scoped>\n",
       "    .dataframe tbody tr th:only-of-type {\n",
       "        vertical-align: middle;\n",
       "    }\n",
       "\n",
       "    .dataframe tbody tr th {\n",
       "        vertical-align: top;\n",
       "    }\n",
       "\n",
       "    .dataframe thead th {\n",
       "        text-align: right;\n",
       "    }\n",
       "</style>\n",
       "<table border=\"1\" class=\"dataframe\">\n",
       "  <thead>\n",
       "    <tr style=\"text-align: right;\">\n",
       "      <th></th>\n",
       "      <th>이용일시</th>\n",
       "      <th>가맹점명</th>\n",
       "      <th>이용금액</th>\n",
       "    </tr>\n",
       "  </thead>\n",
       "  <tbody>\n",
       "    <tr>\n",
       "      <th>0</th>\n",
       "      <td>2020/12/31  20:00</td>\n",
       "      <td>스시안</td>\n",
       "      <td>19,000</td>\n",
       "    </tr>\n",
       "    <tr>\n",
       "      <th>1</th>\n",
       "      <td>2020/12/30  23:59</td>\n",
       "      <td>티머니 개인택시</td>\n",
       "      <td>4,500</td>\n",
       "    </tr>\n",
       "    <tr>\n",
       "      <th>2</th>\n",
       "      <td>2020/12/25  19:38</td>\n",
       "      <td>구글플레이</td>\n",
       "      <td>2,400</td>\n",
       "    </tr>\n",
       "    <tr>\n",
       "      <th>3</th>\n",
       "      <td>2020/12/25  15:03</td>\n",
       "      <td>아르고</td>\n",
       "      <td>1,000</td>\n",
       "    </tr>\n",
       "    <tr>\n",
       "      <th>4</th>\n",
       "      <td>2020/12/25  12:03</td>\n",
       "      <td>안녕식당</td>\n",
       "      <td>28,500</td>\n",
       "    </tr>\n",
       "    <tr>\n",
       "      <th>5</th>\n",
       "      <td>2020/12/25  01:06</td>\n",
       "      <td>(주)코리아세븐  천호역점</td>\n",
       "      <td>19,550</td>\n",
       "    </tr>\n",
       "    <tr>\n",
       "      <th>6</th>\n",
       "      <td>2020/12/24  21:35</td>\n",
       "      <td>지에스 강동천일점</td>\n",
       "      <td>3,500</td>\n",
       "    </tr>\n",
       "    <tr>\n",
       "      <th>7</th>\n",
       "      <td>2020/12/24  20:43</td>\n",
       "      <td>탐라포차 천호점</td>\n",
       "      <td>18,400</td>\n",
       "    </tr>\n",
       "    <tr>\n",
       "      <th>8</th>\n",
       "      <td>2020/12/23  13:12</td>\n",
       "      <td>(주)이마트  천호점</td>\n",
       "      <td>13,860</td>\n",
       "    </tr>\n",
       "    <tr>\n",
       "      <th>9</th>\n",
       "      <td>2020/12/21  11:58</td>\n",
       "      <td>키다리아저씨</td>\n",
       "      <td>5,300</td>\n",
       "    </tr>\n",
       "  </tbody>\n",
       "</table>\n",
       "</div>"
      ],
      "text/plain": [
       "                이용일시            가맹점명    이용금액\n",
       "0  2020/12/31  20:00             스시안  19,000\n",
       "1  2020/12/30  23:59        티머니 개인택시   4,500\n",
       "2  2020/12/25  19:38           구글플레이   2,400\n",
       "3  2020/12/25  15:03             아르고   1,000\n",
       "4  2020/12/25  12:03            안녕식당  28,500\n",
       "5  2020/12/25  01:06  (주)코리아세븐  천호역점  19,550\n",
       "6  2020/12/24  21:35       지에스 강동천일점   3,500\n",
       "7  2020/12/24  20:43        탐라포차 천호점  18,400\n",
       "8  2020/12/23  13:12     (주)이마트  천호점  13,860\n",
       "9  2020/12/21  11:58          키다리아저씨   5,300"
      ]
     },
     "execution_count": 22,
     "metadata": {},
     "output_type": "execute_result"
    }
   ],
   "source": [
    "card_df.head(10)"
   ]
  },
  {
   "cell_type": "code",
   "execution_count": 13,
   "metadata": {
    "colab": {
     "base_uri": "https://localhost:8080/",
     "height": 203
    },
    "executionInfo": {
     "elapsed": 947,
     "status": "ok",
     "timestamp": 1610195906160,
     "user": {
      "displayName": "진현영",
      "photoUrl": "https://lh5.googleusercontent.com/-JblkEZU_9CA/AAAAAAAAAAI/AAAAAAAAA9E/pPczc2xYDZs/s64/photo.jpg",
      "userId": "17511610036703028721"
     },
     "user_tz": -540
    },
    "id": "SK-tCfL17nlA",
    "outputId": "a290cd62-c09f-4712-b094-b0cbdcb77c17"
   },
   "outputs": [
    {
     "data": {
      "text/html": [
       "<div>\n",
       "<style scoped>\n",
       "    .dataframe tbody tr th:only-of-type {\n",
       "        vertical-align: middle;\n",
       "    }\n",
       "\n",
       "    .dataframe tbody tr th {\n",
       "        vertical-align: top;\n",
       "    }\n",
       "\n",
       "    .dataframe thead th {\n",
       "        text-align: right;\n",
       "    }\n",
       "</style>\n",
       "<table border=\"1\" class=\"dataframe\">\n",
       "  <thead>\n",
       "    <tr style=\"text-align: right;\">\n",
       "      <th></th>\n",
       "      <th>이용일시</th>\n",
       "      <th>가맹점명</th>\n",
       "      <th>이용금액</th>\n",
       "    </tr>\n",
       "  </thead>\n",
       "  <tbody>\n",
       "    <tr>\n",
       "      <th>0</th>\n",
       "      <td>2020/12/31  20:00</td>\n",
       "      <td>스시안</td>\n",
       "      <td>19,000</td>\n",
       "    </tr>\n",
       "    <tr>\n",
       "      <th>1</th>\n",
       "      <td>2020/12/30  23:59</td>\n",
       "      <td>티머니 개인택시</td>\n",
       "      <td>4,500</td>\n",
       "    </tr>\n",
       "    <tr>\n",
       "      <th>2</th>\n",
       "      <td>2020/12/25  19:38</td>\n",
       "      <td>구글플레이</td>\n",
       "      <td>2,400</td>\n",
       "    </tr>\n",
       "    <tr>\n",
       "      <th>3</th>\n",
       "      <td>2020/12/25  15:03</td>\n",
       "      <td>아르고</td>\n",
       "      <td>1,000</td>\n",
       "    </tr>\n",
       "    <tr>\n",
       "      <th>4</th>\n",
       "      <td>2020/12/25  12:03</td>\n",
       "      <td>안녕식당</td>\n",
       "      <td>28,500</td>\n",
       "    </tr>\n",
       "  </tbody>\n",
       "</table>\n",
       "</div>"
      ],
      "text/plain": [
       "                이용일시      가맹점명    이용금액\n",
       "0  2020/12/31  20:00       스시안  19,000\n",
       "1  2020/12/30  23:59  티머니 개인택시   4,500\n",
       "2  2020/12/25  19:38     구글플레이   2,400\n",
       "3  2020/12/25  15:03       아르고   1,000\n",
       "4  2020/12/25  12:03      안녕식당  28,500"
      ]
     },
     "execution_count": 13,
     "metadata": {},
     "output_type": "execute_result"
    }
   ],
   "source": [
    "# 이용일시, 가맹점명, 이용금액만 남기고 drop\n",
    "drop_columns = ['승인번호', '본인구분', '브랜드', '이용카드', '이용구분','매입상태']\n",
    "card_df.drop(drop_columns, axis=1, inplace=True)\n",
    "card_df.head()"
   ]
  },
  {
   "cell_type": "code",
   "execution_count": 14,
   "metadata": {
    "colab": {
     "base_uri": "https://localhost:8080/"
    },
    "executionInfo": {
     "elapsed": 6085,
     "status": "ok",
     "timestamp": 1610195912680,
     "user": {
      "displayName": "진현영",
      "photoUrl": "https://lh5.googleusercontent.com/-JblkEZU_9CA/AAAAAAAAAAI/AAAAAAAAA9E/pPczc2xYDZs/s64/photo.jpg",
      "userId": "17511610036703028721"
     },
     "user_tz": -540
    },
    "id": "58pfcYK9AhGv",
    "outputId": "932a00f7-393c-49b0-f746-a9e4129ff7c2"
   },
   "outputs": [
    {
     "name": "stdout",
     "output_type": "stream",
     "text": [
      "Requirement already satisfied: selenium in c:\\programdata\\anaconda3\\lib\\site-packages (3.141.0)\n",
      "Requirement already satisfied: urllib3 in c:\\programdata\\anaconda3\\lib\\site-packages (from selenium) (1.25.8)\n",
      "Note: you may need to restart the kernel to use updated packages.\n"
     ]
    },
    {
     "name": "stderr",
     "output_type": "stream",
     "text": [
      "WARNING: You are using pip version 20.2.3; however, version 20.3.3 is available.\n",
      "You should consider upgrading via the 'C:\\ProgramData\\Anaconda3\\python.exe -m pip install --upgrade pip' command.\n"
     ]
    }
   ],
   "source": [
    "pip install selenium"
   ]
  },
  {
   "cell_type": "code",
   "execution_count": 16,
   "metadata": {
    "colab": {
     "base_uri": "https://localhost:8080/"
    },
    "executionInfo": {
     "elapsed": 2251,
     "status": "ok",
     "timestamp": 1610196031446,
     "user": {
      "displayName": "진현영",
      "photoUrl": "https://lh5.googleusercontent.com/-JblkEZU_9CA/AAAAAAAAAAI/AAAAAAAAA9E/pPczc2xYDZs/s64/photo.jpg",
      "userId": "17511610036703028721"
     },
     "user_tz": -540
    },
    "id": "HufPq9OqKXVi",
    "outputId": "b63bd206-0309-4a10-d9ff-fb251faf8bda"
   },
   "outputs": [
    {
     "name": "stderr",
     "output_type": "stream",
     "text": [
      "C:\\ProgramData\\Anaconda3\\lib\\site-packages\\ipykernel_launcher.py:7: DeprecationWarning: use options instead of chrome_options\n",
      "  import sys\n"
     ]
    }
   ],
   "source": [
    "from selenium import webdriver\n",
    "\n",
    "chrome_options = webdriver.ChromeOptions()\n",
    "chrome_options.add_argument('--headless')\n",
    "chrome_options.add_argument('--no-sandbox')\n",
    "chrome_options.add_argument('--disable-dev-shm-usage')\n",
    "driver = webdriver.Chrome('chromedriver (1).exe', chrome_options=chrome_options)"
   ]
  },
  {
   "cell_type": "code",
   "execution_count": 19,
   "metadata": {
    "colab": {
     "base_uri": "https://localhost:8080/",
     "height": 231
    },
    "executionInfo": {
     "elapsed": 2643,
     "status": "error",
     "timestamp": 1610196820834,
     "user": {
      "displayName": "진현영",
      "photoUrl": "https://lh5.googleusercontent.com/-JblkEZU_9CA/AAAAAAAAAAI/AAAAAAAAA9E/pPczc2xYDZs/s64/photo.jpg",
      "userId": "17511610036703028721"
     },
     "user_tz": -540
    },
    "id": "YezrIix9Zbv5",
    "outputId": "c197ae65-95ee-4283-f96e-c1e5f9f5350f",
    "scrolled": true
   },
   "outputs": [],
   "source": [
    "# https://book.coalastudy.com/data_crawling/week6/stage2\n",
    "# 네이버 지도 구버전\n",
    "import time\n",
    "\n",
    "categories = []\n",
    "\n",
    "for i in range(10):\n",
    "    driver.get(\"https://v4.map.naver.com\")\n",
    "    kword = card_df['가맹점명'][i]\n",
    "    driver.find_elements_by_css_selector(\"button.btn_close\")[1].click()\n",
    "    search_box  = driver.find_element_by_css_selector(\"input#search-input\").send_keys(kword)\n",
    "    search_button = driver.find_element_by_css_selector(\"button.spm\").click()\n",
    "    stores = driver.find_elements_by_css_selector(\"div.lsnx\")\n",
    "\n",
    "    for store in stores:\n",
    "        category = store.find_element_by_css_selector(\"dd.cate\").text\n",
    "        \n",
    "    categories.append(category)\n",
    "    time.sleep(3)"
   ]
  },
  {
   "cell_type": "code",
   "execution_count": 20,
   "metadata": {
    "id": "_59ztF2na1-e"
   },
   "outputs": [
    {
     "name": "stdout",
     "output_type": "stream",
     "text": [
      "['일식 > 초밥,롤', '일식 > 초밥,롤', '쇼핑,유통 > 상품권판매', '쇼핑,유통 > 카오디오', '술집 > 요리주점', '생활,편의 > 편의점', '생활,편의 > 편의점', '술집 > 포장마차', '쇼핑,유통 > 건강기능보조식품', '부동산 > 중개업']\n"
     ]
    }
   ],
   "source": [
    "print(categories)"
   ]
  },
  {
   "cell_type": "code",
   "execution_count": 24,
   "metadata": {},
   "outputs": [
    {
     "data": {
      "text/plain": [
       "array(['가츠시'], dtype=object)"
      ]
     },
     "execution_count": 24,
     "metadata": {},
     "output_type": "execute_result"
    }
   ],
   "source": [
    "drop1_index = card_df[card_df['가맹점명'].map(len) == 3].index\n",
    "\n",
    "card_df['가맹점명'][drop1_index].unique()"
   ]
  },
  {
   "cell_type": "code",
   "execution_count": 25,
   "metadata": {},
   "outputs": [
    {
     "data": {
      "text/html": [
       "<div>\n",
       "<style scoped>\n",
       "    .dataframe tbody tr th:only-of-type {\n",
       "        vertical-align: middle;\n",
       "    }\n",
       "\n",
       "    .dataframe tbody tr th {\n",
       "        vertical-align: top;\n",
       "    }\n",
       "\n",
       "    .dataframe thead th {\n",
       "        text-align: right;\n",
       "    }\n",
       "</style>\n",
       "<table border=\"1\" class=\"dataframe\">\n",
       "  <thead>\n",
       "    <tr style=\"text-align: right;\">\n",
       "      <th></th>\n",
       "      <th>이용일시</th>\n",
       "      <th>가맹점명</th>\n",
       "      <th>이용금액</th>\n",
       "    </tr>\n",
       "  </thead>\n",
       "  <tbody>\n",
       "    <tr>\n",
       "      <th>0</th>\n",
       "      <td>2020/12/30  23:59</td>\n",
       "      <td>티머니 개인택시</td>\n",
       "      <td>4,500</td>\n",
       "    </tr>\n",
       "    <tr>\n",
       "      <th>1</th>\n",
       "      <td>2020/12/25  19:38</td>\n",
       "      <td>구글플레이</td>\n",
       "      <td>2,400</td>\n",
       "    </tr>\n",
       "    <tr>\n",
       "      <th>2</th>\n",
       "      <td>2020/12/25  12:03</td>\n",
       "      <td>안녕식당</td>\n",
       "      <td>28,500</td>\n",
       "    </tr>\n",
       "    <tr>\n",
       "      <th>3</th>\n",
       "      <td>2020/12/25  01:06</td>\n",
       "      <td>(주)코리아세븐  천호역점</td>\n",
       "      <td>19,550</td>\n",
       "    </tr>\n",
       "    <tr>\n",
       "      <th>4</th>\n",
       "      <td>2020/12/24  21:35</td>\n",
       "      <td>지에스 강동천일점</td>\n",
       "      <td>3,500</td>\n",
       "    </tr>\n",
       "    <tr>\n",
       "      <th>...</th>\n",
       "      <td>...</td>\n",
       "      <td>...</td>\n",
       "      <td>...</td>\n",
       "    </tr>\n",
       "    <tr>\n",
       "      <th>305</th>\n",
       "      <td>2020/08/04  16:54</td>\n",
       "      <td>세븐일레븐 잠실역사점</td>\n",
       "      <td>3,900</td>\n",
       "    </tr>\n",
       "    <tr>\n",
       "      <th>306</th>\n",
       "      <td>2020/08/02  18:48</td>\n",
       "      <td>멘야하나비</td>\n",
       "      <td>23,500</td>\n",
       "    </tr>\n",
       "    <tr>\n",
       "      <th>307</th>\n",
       "      <td>2020/08/02  14:32</td>\n",
       "      <td>롯데물산 (주) 롯데월드몰점</td>\n",
       "      <td>63,600</td>\n",
       "    </tr>\n",
       "    <tr>\n",
       "      <th>308</th>\n",
       "      <td>2020/08/02  14:30</td>\n",
       "      <td>롯데물산 (주) 롯데월드몰점</td>\n",
       "      <td>63,600</td>\n",
       "    </tr>\n",
       "    <tr>\n",
       "      <th>309</th>\n",
       "      <td>2020/08/01  16:43</td>\n",
       "      <td>원모어백</td>\n",
       "      <td>2,000</td>\n",
       "    </tr>\n",
       "  </tbody>\n",
       "</table>\n",
       "<p>310 rows × 3 columns</p>\n",
       "</div>"
      ],
      "text/plain": [
       "                  이용일시             가맹점명    이용금액\n",
       "0    2020/12/30  23:59         티머니 개인택시   4,500\n",
       "1    2020/12/25  19:38            구글플레이   2,400\n",
       "2    2020/12/25  12:03             안녕식당  28,500\n",
       "3    2020/12/25  01:06   (주)코리아세븐  천호역점  19,550\n",
       "4    2020/12/24  21:35        지에스 강동천일점   3,500\n",
       "..                 ...              ...     ...\n",
       "305  2020/08/04  16:54      세븐일레븐 잠실역사점   3,900\n",
       "306  2020/08/02  18:48            멘야하나비  23,500\n",
       "307  2020/08/02  14:32  롯데물산 (주) 롯데월드몰점  63,600\n",
       "308  2020/08/02  14:30  롯데물산 (주) 롯데월드몰점  63,600\n",
       "309  2020/08/01  16:43             원모어백   2,000\n",
       "\n",
       "[310 rows x 3 columns]"
      ]
     },
     "execution_count": 25,
     "metadata": {},
     "output_type": "execute_result"
    }
   ],
   "source": [
    "exception_list=['새로이','홈마트','가츠시','그리네','배고팡','팔공티','띵카롱','아비꼬','도네누','카페롱','하얗다','더호떡','꼽사리','연약국','시너리','개미집','위메프']\n",
    "exception_list\n",
    "\n",
    "drop_df = pd.DataFrame(card_df['가맹점명'][drop1_index])\n",
    "drop_df\n",
    "\n",
    "\n",
    "drop_final_index = drop_df['가맹점명'][~drop_df['가맹점명'].isin(exception_list)].index\n",
    "card_df = card_df.drop(index=drop_final_index).reset_index().drop('index', axis=1)\n",
    "card_df"
   ]
  },
  {
   "cell_type": "code",
   "execution_count": null,
   "metadata": {},
   "outputs": [],
   "source": []
  },
  {
   "cell_type": "code",
   "execution_count": null,
   "metadata": {},
   "outputs": [],
   "source": []
  }
 ],
 "metadata": {
  "colab": {
   "authorship_tag": "ABX9TyNYMPrBORwxnXMNLh4K/y5h",
   "collapsed_sections": [],
   "name": "jin_text.ipynb",
   "provenance": []
  },
  "kernelspec": {
   "display_name": "Python 3",
   "language": "python",
   "name": "python3"
  },
  "language_info": {
   "codemirror_mode": {
    "name": "ipython",
    "version": 3
   },
   "file_extension": ".py",
   "mimetype": "text/x-python",
   "name": "python",
   "nbconvert_exporter": "python",
   "pygments_lexer": "ipython3",
   "version": "3.7.6"
  }
 },
 "nbformat": 4,
 "nbformat_minor": 1
}
