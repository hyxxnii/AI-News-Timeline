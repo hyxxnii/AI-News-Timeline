{
  "nbformat": 4,
  "nbformat_minor": 0,
  "metadata": {
    "colab": {
      "name": "News Summarization.ipynb",
      "provenance": [],
      "collapsed_sections": [
        "ggCv4aokAYkq"
      ],
      "authorship_tag": "ABX9TyNRzpMOzJ6hieNLTvjoBSio",
      "include_colab_link": true
    },
    "kernelspec": {
      "name": "python3",
      "display_name": "Python 3"
    },
    "language_info": {
      "name": "python"
    }
  },
  "cells": [
    {
      "cell_type": "markdown",
      "metadata": {
        "id": "view-in-github",
        "colab_type": "text"
      },
      "source": [
        "<a href=\"https://colab.research.google.com/github/hyxxnii/AI-News-Timeline/blob/main/5.News_Summarization.ipynb\" target=\"_parent\"><img src=\"https://colab.research.google.com/assets/colab-badge.svg\" alt=\"Open In Colab\"/></a>"
      ]
    },
    {
      "cell_type": "code",
      "metadata": {
        "colab": {
          "base_uri": "https://localhost:8080/"
        },
        "id": "yRCL6ykKvSc_",
        "outputId": "c26f42b1-261a-4adf-83cb-ab84a9b0e2c4"
      },
      "source": [
        "from google.colab import drive\n",
        "drive.mount('/content/drive')"
      ],
      "execution_count": 1,
      "outputs": [
        {
          "output_type": "stream",
          "text": [
            "Drive already mounted at /content/drive; to attempt to forcibly remount, call drive.mount(\"/content/drive\", force_remount=True).\n"
          ],
          "name": "stdout"
        }
      ]
    },
    {
      "cell_type": "code",
      "metadata": {
        "id": "vGfFVxjwvKUt"
      },
      "source": [
        "#!git clone https://github.com/lovit/textrank.git '/content/drive/MyDrive/NLP practice/textrank'"
      ],
      "execution_count": null,
      "outputs": []
    },
    {
      "cell_type": "code",
      "metadata": {
        "id": "AlK8GKhUHXS7"
      },
      "source": [
        "!pip install krwordrank\n",
        "!pip install konlpy"
      ],
      "execution_count": null,
      "outputs": []
    },
    {
      "cell_type": "code",
      "metadata": {
        "id": "-BAnURF0vstu"
      },
      "source": [
        "import pandas as pd\n",
        "import re\n",
        "import konlpy\n",
        "\n",
        "data = pd.read_csv('/content/drive/MyDrive/NLP practice/창의학기제/accident.csv')"
      ],
      "execution_count": 3,
      "outputs": []
    },
    {
      "cell_type": "code",
      "metadata": {
        "colab": {
          "base_uri": "https://localhost:8080/",
          "height": 589
        },
        "id": "g4jApE3G_3FF",
        "outputId": "ef65256c-2ba7-4b33-de82-8291aa32a6c2"
      },
      "source": [
        "data[data['body_for_summ'].str.contains('n번방')]"
      ],
      "execution_count": 6,
      "outputs": [
        {
          "output_type": "execute_result",
          "data": {
            "text/html": [
              "<div>\n",
              "<style scoped>\n",
              "    .dataframe tbody tr th:only-of-type {\n",
              "        vertical-align: middle;\n",
              "    }\n",
              "\n",
              "    .dataframe tbody tr th {\n",
              "        vertical-align: top;\n",
              "    }\n",
              "\n",
              "    .dataframe thead th {\n",
              "        text-align: right;\n",
              "    }\n",
              "</style>\n",
              "<table border=\"1\" class=\"dataframe\">\n",
              "  <thead>\n",
              "    <tr style=\"text-align: right;\">\n",
              "      <th></th>\n",
              "      <th>date</th>\n",
              "      <th>title</th>\n",
              "      <th>body_prep</th>\n",
              "      <th>category</th>\n",
              "      <th>labels</th>\n",
              "      <th>labels2</th>\n",
              "      <th>body_for_summ</th>\n",
              "    </tr>\n",
              "  </thead>\n",
              "  <tbody>\n",
              "    <tr>\n",
              "      <th>68</th>\n",
              "      <td>2020-12-20</td>\n",
              "      <td>'19금' 즐기는 교도소 성범죄자들…못보게 하면 \"소송 건다\"</td>\n",
              "      <td>교도소에 수감한 성범죄자가 야한 을 돌려보며 낄낄대는 걸 두고 보기가 고통스럽네요....</td>\n",
              "      <td>3</td>\n",
              "      <td>-1</td>\n",
              "      <td>12</td>\n",
              "      <td>교도소에 수감한 성범죄자가 야한 을 돌려보며 낄낄대는 걸 두고 보기가 고통스럽네요....</td>\n",
              "    </tr>\n",
              "    <tr>\n",
              "      <th>86</th>\n",
              "      <td>2020-12-17</td>\n",
              "      <td>n번방 피해자에 “남자 여럿 만나”···악플 단 공무원 檢 송치</td>\n",
              "      <td>3월 25일 서울지방경찰청 앞에서 텔레그램 n번방 성착취 사건과 관련해 범죄자들을 ...</td>\n",
              "      <td>3</td>\n",
              "      <td>-1</td>\n",
              "      <td>91</td>\n",
              "      <td>3월 25일 서울지방경찰청 앞에서 텔레그램 n번방 성착취 사건과 관련해 범죄자들을 ...</td>\n",
              "    </tr>\n",
              "    <tr>\n",
              "      <th>573</th>\n",
              "      <td>2020-10-12</td>\n",
              "      <td>[속보] 텔레그램 n번방 운영자 '갓갓'에 무기징역 구형</td>\n",
              "      <td>성 착취물을 공유하는 텔레그램 대화방인 n번방 운영자로 경찰에 구속된 갓갓 문형욱 ...</td>\n",
              "      <td>3</td>\n",
              "      <td>178</td>\n",
              "      <td>-2</td>\n",
              "      <td>성 착취물을 공유하는 텔레그램 대화방인 n번방 운영자로 경찰에 구속된 갓갓 문형욱 ...</td>\n",
              "    </tr>\n",
              "    <tr>\n",
              "      <th>836</th>\n",
              "      <td>2020-09-10</td>\n",
              "      <td>[단독]텔레그램판 디지털교도소 \"악마 잡으려 악마 됐다\" 잠적</td>\n",
              "      <td>온라인에서 성 착취물을 제작공유하는 이들을 적발해 신상정보를 공개하는 텔레그램 대화...</td>\n",
              "      <td>3</td>\n",
              "      <td>151</td>\n",
              "      <td>-2</td>\n",
              "      <td>온라인에서 성 착취물을 제작공유하는 이들을 적발해 신상정보를 공개하는 텔레그램 대화...</td>\n",
              "    </tr>\n",
              "    <tr>\n",
              "      <th>850</th>\n",
              "      <td>2020-09-08</td>\n",
              "      <td>'디지털교도소' 먹통…전문가 \"사이트 닫았을 가능성\"</td>\n",
              "      <td>8일 오후 성범죄자로 추정되는 이들의 신상을 공개하는 디지털교도소 사이트 접속이 불...</td>\n",
              "      <td>3</td>\n",
              "      <td>152</td>\n",
              "      <td>-2</td>\n",
              "      <td>8일 오후 성범죄자로 추정되는 이들의 신상을 공개하는 디지털교도소 사이트 접속이 불...</td>\n",
              "    </tr>\n",
              "    <tr>\n",
              "      <th>...</th>\n",
              "      <td>...</td>\n",
              "      <td>...</td>\n",
              "      <td>...</td>\n",
              "      <td>...</td>\n",
              "      <td>...</td>\n",
              "      <td>...</td>\n",
              "      <td>...</td>\n",
              "    </tr>\n",
              "    <tr>\n",
              "      <th>2417</th>\n",
              "      <td>2020-03-21</td>\n",
              "      <td>n번방 '박사', 구청 공익요원 시켜 피해 여성 신상 빼냈다</td>\n",
              "      <td>텔레그램에서 미성년자를 성적으로 착취하는 내용의 영상물을 공유하는 n번방 사건의 핵...</td>\n",
              "      <td>3</td>\n",
              "      <td>179</td>\n",
              "      <td>-2</td>\n",
              "      <td>텔레그램에서 미성년자를 성적으로 착취하는 내용의 영상물을 공유하는 n번방 사건의 핵...</td>\n",
              "    </tr>\n",
              "    <tr>\n",
              "      <th>2427</th>\n",
              "      <td>2020-03-19</td>\n",
              "      <td>얼굴 필사적으로 가린 'n번방 박사'…8개월간 소름돋는 수법</td>\n",
              "      <td>19일 n번방 사건의 핵심 피의자 조모씨 별명 박사 가 서울중앙지법에서 구속 심사를...</td>\n",
              "      <td>3</td>\n",
              "      <td>179</td>\n",
              "      <td>-2</td>\n",
              "      <td>19일 n번방 사건의 핵심 피의자 조모씨 별명 박사 가 서울중앙지법에서 구속 심사를...</td>\n",
              "    </tr>\n",
              "    <tr>\n",
              "      <th>2428</th>\n",
              "      <td>2020-03-19</td>\n",
              "      <td>'n번방 박사' 추정 20대, 묶인 두손으로 얼굴 필사적 감췄다</td>\n",
              "      <td>텔레그램에서 미성년자를 성적으로 착취하는 내용의 영상물을 공유하는 n번방 사건의 핵...</td>\n",
              "      <td>3</td>\n",
              "      <td>179</td>\n",
              "      <td>-2</td>\n",
              "      <td>텔레그램에서 미성년자를 성적으로 착취하는 내용의 영상물을 공유하는 n번방 사건의 핵...</td>\n",
              "    </tr>\n",
              "    <tr>\n",
              "      <th>2435</th>\n",
              "      <td>2020-03-19</td>\n",
              "      <td>몸에 '박사' 새겨 노예로 부렸다…미성년 성착취 'n번방' 수법</td>\n",
              "      <td>미성년자를 상대로 성착취 동영상을 찍게 하고 SNS 단체대화방을 통해 판매한 n번방...</td>\n",
              "      <td>3</td>\n",
              "      <td>179</td>\n",
              "      <td>-2</td>\n",
              "      <td>미성년자를 상대로 성착취 동영상을 찍게 하고 SNS 단체대화방을 통해 판매한 n번방...</td>\n",
              "    </tr>\n",
              "    <tr>\n",
              "      <th>2448</th>\n",
              "      <td>2020-03-17</td>\n",
              "      <td>미성년자 성착취 영상 뿌린 n번방 '박사' 잡혔다…자해 시도</td>\n",
              "      <td>스마트폰 무료 문자메시지 서비스 텔레그램에서 이른바 n번방 을 운영하며 미성년자들의...</td>\n",
              "      <td>3</td>\n",
              "      <td>179</td>\n",
              "      <td>-2</td>\n",
              "      <td>스마트폰 무료 문자메시지 서비스 텔레그램에서 이른바 n번방 을 운영하며 미성년자들의...</td>\n",
              "    </tr>\n",
              "  </tbody>\n",
              "</table>\n",
              "<p>94 rows × 7 columns</p>\n",
              "</div>"
            ],
            "text/plain": [
              "            date  ...                                      body_for_summ\n",
              "68    2020-12-20  ...  교도소에 수감한 성범죄자가 야한 을 돌려보며 낄낄대는 걸 두고 보기가 고통스럽네요....\n",
              "86    2020-12-17  ...  3월 25일 서울지방경찰청 앞에서 텔레그램 n번방 성착취 사건과 관련해 범죄자들을 ...\n",
              "573   2020-10-12  ...  성 착취물을 공유하는 텔레그램 대화방인 n번방 운영자로 경찰에 구속된 갓갓 문형욱 ...\n",
              "836   2020-09-10  ...  온라인에서 성 착취물을 제작공유하는 이들을 적발해 신상정보를 공개하는 텔레그램 대화...\n",
              "850   2020-09-08  ...  8일 오후 성범죄자로 추정되는 이들의 신상을 공개하는 디지털교도소 사이트 접속이 불...\n",
              "...          ...  ...                                                ...\n",
              "2417  2020-03-21  ...  텔레그램에서 미성년자를 성적으로 착취하는 내용의 영상물을 공유하는 n번방 사건의 핵...\n",
              "2427  2020-03-19  ...  19일 n번방 사건의 핵심 피의자 조모씨 별명 박사 가 서울중앙지법에서 구속 심사를...\n",
              "2428  2020-03-19  ...  텔레그램에서 미성년자를 성적으로 착취하는 내용의 영상물을 공유하는 n번방 사건의 핵...\n",
              "2435  2020-03-19  ...  미성년자를 상대로 성착취 동영상을 찍게 하고 SNS 단체대화방을 통해 판매한 n번방...\n",
              "2448  2020-03-17  ...  스마트폰 무료 문자메시지 서비스 텔레그램에서 이른바 n번방 을 운영하며 미성년자들의...\n",
              "\n",
              "[94 rows x 7 columns]"
            ]
          },
          "metadata": {
            "tags": []
          },
          "execution_count": 6
        }
      ]
    },
    {
      "cell_type": "code",
      "metadata": {
        "colab": {
          "base_uri": "https://localhost:8080/",
          "height": 174
        },
        "id": "y_PKrMW414Bk",
        "outputId": "d9c12acd-00e2-42b4-dffa-047e24e063e3"
      },
      "source": [
        "sents = data['body_for_summ']\n",
        "origin_sets = sents.copy()\n",
        "sents[2435]"
      ],
      "execution_count": 7,
      "outputs": [
        {
          "output_type": "execute_result",
          "data": {
            "application/vnd.google.colaboratory.intrinsic+json": {
              "type": "string"
            },
            "text/plain": [
              "'미성년자를 상대로 성착취 동영상을 찍게 하고 SNS 단체대화방을 통해 판매한 n번방 사건의 핵심 인물 박사가 경찰에 붙잡혔다. 지난 2월 1일 21만9000여 명이 청와대 국민청원을 통해 사태의 근본적인 해결을 요구하고 나선 지 40여 일 만이다. 조사 결과 범행에 피해자를 동원한 정황도 드러났다.서울지방경찰청 사이버안전과는 청소년성보호법상 아동청소년이용음란물의 제작배포 등의 혐의로 n번방 사건 관계자 14명을 검거했다고 18일 밝혔다. 이 가운데 박사 조 모씨 등 4명에 대해선 구속 영장을 신청했다. 구속 전 피의자 심문 영장실질심사 은 19일 오후 3시 서울중앙지법에서 원정숙 영장전담 부장판사 심리로 열린다.조씨는 현재 자신이 박사라는 것을 부정하고 있는 것으로 알려졌다. 그는 조사를 받는 도중 자해를 시도했다. 신종 코로나바이러스 감염증 코로나 의심증상을 보여 소동이 일기도 했다. 검사 결과는 음성이다.지난해 2월 처음 개설된 n번방은 텔레그램 메신저를 이용해 성착취 과 영상을 공유할 목적인 단체 대화방이다. 수사망을 따돌리기 위해 산발적으로 수많은 방이 만들어졌다가 없어지기를 반복해 n번방이라는 이름이 붙었다. 보안을 위해 성착취에 가담하지 않는 참여자는 퇴장시킨다는 규칙도 적용했다.범인들이 텔레그램을 쓴 건 해외에 서버를 두고 있어 압수수색 등이 어렵고 대화 내역을 지우는 기능이 있기 때문이다. n번방에 입장하려면 수십만원에서 많게는 100만원 이상 지불해야 했다. 한 방에만 수천 명 이상이 들어가 있었다고 한다. 주범들이 소녀들을 꼬드겨 성착취 동영상을 찍게 하고 넘겨받은 뒤 유포하는 수법이었다.처음 n번방을 만들기 시작한 건 갓갓이다.갓갓에 이어 와치맨이 등장했다. 그는 2016년 폐쇄된 성착취물 유통 웹사이트 소라넷의 계보를 잇겠다고 선언했다. 그 뒤에 박사가 조명을 받았다. 지난해 7월 활동을 시작한 박사는 더욱 치밀한 방법으로 더욱 자극적인 성착취물을 퍼뜨리며 인기를 끌었다.구체적인 박사의 범행 수법은 다음과 같다. 피해 여성에게 고액 아르바이트 자리를 소개해준다며 접근했다. 그러면서 급여 지급을 핑계로 개인정보 주민등록번호계좌번호얼굴 등 를 받아냈다. 시키는 대로 하지 않으면 주변인에게 알리겠다고 협박하기 위해서다. 살해 위협도 가했다. 박사는 이것만 찍으면 돈이 입금될 것이라고 회유하기도 했다. 점차 수위 높은 성착취물을 받아낸 비결이다.박사를 포함한 단체대화방 참여자들은 피해자를 노예라고 불렀다. 박사는 피해자의 신체 일부에 칼로 노예나 박사라는 말을 새기게 하고, 새끼손가락을 들게 해 박사의 지시에 따른 것을 알아볼 수 있게 했다. 거래는 비트코인 등 암호화폐로 진행해 수사기관의 추적을 피했다.박사는 피해자를 시켜 다른 피해자를 데려오도록 한 것으로도 전해졌다. 김갑식 서울지방경찰청 수사부장은 피해자가 피의자가 돼 있기도 했다며 이들의 경우 범행에 가담한 자발성이 어느 정도인지 조사하고 있다고 말했다. 경찰은 비슷한 범행이 다른 메신저 디스코드에서도 이뤄지고 있는 정황을 잡고 수사를 확대하는 중이다.'"
            ]
          },
          "metadata": {
            "tags": []
          },
          "execution_count": 7
        }
      ]
    },
    {
      "cell_type": "markdown",
      "metadata": {
        "id": "iFvBdn7a-YDs"
      },
      "source": [
        "## TextRank 문서 요약"
      ]
    },
    {
      "cell_type": "markdown",
      "metadata": {
        "id": "ZShEhBo1_hl6"
      },
      "source": [
        "### 1. 띄어쓰기 기준"
      ]
    },
    {
      "cell_type": "code",
      "metadata": {
        "colab": {
          "base_uri": "https://localhost:8080/"
        },
        "id": "YcjEA1DpLh8D",
        "outputId": "a60da1eb-d559-4ebd-8e33-5d38c4ec6743"
      },
      "source": [
        "%cd /content/drive/MyDrive/NLPpractice/textrank"
      ],
      "execution_count": 26,
      "outputs": [
        {
          "output_type": "stream",
          "text": [
            "/content/drive/MyDrive/NLPpractice/textrank\n"
          ],
          "name": "stdout"
        }
      ]
    },
    {
      "cell_type": "code",
      "metadata": {
        "colab": {
          "base_uri": "https://localhost:8080/"
        },
        "id": "V_Yog_h1CBlz",
        "outputId": "30eca577-9dc0-4fdc-972e-f3fc85fd6325"
      },
      "source": [
        "rgxSplitter = re.compile('([.])')\n",
        "ch = rgxSplitter.split(sents[2435])\n",
        "test_sent = []\n",
        "for s in map(lambda a, b: a + b, ch[::2], ch[1::2]):\n",
        "    test_sent.append(s)\n",
        "\n",
        "test_sent"
      ],
      "execution_count": 27,
      "outputs": [
        {
          "output_type": "execute_result",
          "data": {
            "text/plain": [
              "['미성년자를 상대로 성착취 동영상을 찍게 하고 SNS 단체대화방을 통해 판매한 n번방 사건의 핵심 인물 박사가 경찰에 붙잡혔다.',\n",
              " ' 지난 2월 1일 21만9000여 명이 청와대 국민청원을 통해 사태의 근본적인 해결을 요구하고 나선 지 40여 일 만이다.',\n",
              " ' 조사 결과 범행에 피해자를 동원한 정황도 드러났다.',\n",
              " '서울지방경찰청 사이버안전과는 청소년성보호법상 아동청소년이용음란물의 제작배포 등의 혐의로 n번방 사건 관계자 14명을 검거했다고 18일 밝혔다.',\n",
              " ' 이 가운데 박사 조 모씨 등 4명에 대해선 구속 영장을 신청했다.',\n",
              " ' 구속 전 피의자 심문 영장실질심사 은 19일 오후 3시 서울중앙지법에서 원정숙 영장전담 부장판사 심리로 열린다.',\n",
              " '조씨는 현재 자신이 박사라는 것을 부정하고 있는 것으로 알려졌다.',\n",
              " ' 그는 조사를 받는 도중 자해를 시도했다.',\n",
              " ' 신종 코로나바이러스 감염증 코로나 의심증상을 보여 소동이 일기도 했다.',\n",
              " ' 검사 결과는 음성이다.',\n",
              " '지난해 2월 처음 개설된 n번방은 텔레그램 메신저를 이용해 성착취 과 영상을 공유할 목적인 단체 대화방이다.',\n",
              " ' 수사망을 따돌리기 위해 산발적으로 수많은 방이 만들어졌다가 없어지기를 반복해 n번방이라는 이름이 붙었다.',\n",
              " ' 보안을 위해 성착취에 가담하지 않는 참여자는 퇴장시킨다는 규칙도 적용했다.',\n",
              " '범인들이 텔레그램을 쓴 건 해외에 서버를 두고 있어 압수수색 등이 어렵고 대화 내역을 지우는 기능이 있기 때문이다.',\n",
              " ' n번방에 입장하려면 수십만원에서 많게는 100만원 이상 지불해야 했다.',\n",
              " ' 한 방에만 수천 명 이상이 들어가 있었다고 한다.',\n",
              " ' 주범들이 소녀들을 꼬드겨 성착취 동영상을 찍게 하고 넘겨받은 뒤 유포하는 수법이었다.',\n",
              " '처음 n번방을 만들기 시작한 건 갓갓이다.',\n",
              " '갓갓에 이어 와치맨이 등장했다.',\n",
              " ' 그는 2016년 폐쇄된 성착취물 유통 웹사이트 소라넷의 계보를 잇겠다고 선언했다.',\n",
              " ' 그 뒤에 박사가 조명을 받았다.',\n",
              " ' 지난해 7월 활동을 시작한 박사는 더욱 치밀한 방법으로 더욱 자극적인 성착취물을 퍼뜨리며 인기를 끌었다.',\n",
              " '구체적인 박사의 범행 수법은 다음과 같다.',\n",
              " ' 피해 여성에게 고액 아르바이트 자리를 소개해준다며 접근했다.',\n",
              " ' 그러면서 급여 지급을 핑계로 개인정보 주민등록번호계좌번호얼굴 등 를 받아냈다.',\n",
              " ' 시키는 대로 하지 않으면 주변인에게 알리겠다고 협박하기 위해서다.',\n",
              " ' 살해 위협도 가했다.',\n",
              " ' 박사는 이것만 찍으면 돈이 입금될 것이라고 회유하기도 했다.',\n",
              " ' 점차 수위 높은 성착취물을 받아낸 비결이다.',\n",
              " '박사를 포함한 단체대화방 참여자들은 피해자를 노예라고 불렀다.',\n",
              " ' 박사는 피해자의 신체 일부에 칼로 노예나 박사라는 말을 새기게 하고, 새끼손가락을 들게 해 박사의 지시에 따른 것을 알아볼 수 있게 했다.',\n",
              " ' 거래는 비트코인 등 암호화폐로 진행해 수사기관의 추적을 피했다.',\n",
              " '박사는 피해자를 시켜 다른 피해자를 데려오도록 한 것으로도 전해졌다.',\n",
              " ' 김갑식 서울지방경찰청 수사부장은 피해자가 피의자가 돼 있기도 했다며 이들의 경우 범행에 가담한 자발성이 어느 정도인지 조사하고 있다고 말했다.',\n",
              " ' 경찰은 비슷한 범행이 다른 메신저 디스코드에서도 이뤄지고 있는 정황을 잡고 수사를 확대하는 중이다.']"
            ]
          },
          "metadata": {
            "tags": []
          },
          "execution_count": 27
        }
      ]
    },
    {
      "cell_type": "code",
      "metadata": {
        "colab": {
          "base_uri": "https://localhost:8080/"
        },
        "id": "NJRueRTq7D5H",
        "outputId": "7f520302-ca71-4533-dc9b-154af3d68615"
      },
      "source": [
        "from textrank import summarizer\n",
        "from textrank.summarizer import KeywordSummarizer\n",
        "from textrank.summarizer import KeysentenceSummarizer\n",
        "\n",
        "summarizer = KeysentenceSummarizer(\n",
        "    tokenize = lambda x:x.split(),\n",
        "    min_sim = 0.3,\n",
        "    verbose = False\n",
        ")\n",
        "keysents = summarizer.summarize(test_sent, topk=4)\n",
        "for _, _, sent in keysents:\n",
        "    print(sent)"
      ],
      "execution_count": 28,
      "outputs": [
        {
          "output_type": "stream",
          "text": [
            "미성년자를 상대로 성착취 동영상을 찍게 하고 SNS 단체대화방을 통해 판매한 n번방 사건의 핵심 인물 박사가 경찰에 붙잡혔다.\n",
            " 박사는 피해자의 신체 일부에 칼로 노예나 박사라는 말을 새기게 하고, 새끼손가락을 들게 해 박사의 지시에 따른 것을 알아볼 수 있게 했다.\n",
            "지난해 2월 처음 개설된 n번방은 텔레그램 메신저를 이용해 성착취 과 영상을 공유할 목적인 단체 대화방이다.\n",
            " 박사는 이것만 찍으면 돈이 입금될 것이라고 회유하기도 했다.\n"
          ],
          "name": "stdout"
        }
      ]
    },
    {
      "cell_type": "markdown",
      "metadata": {
        "id": "wuz9R4dt_j0N"
      },
      "source": [
        "### 2. Konlpy의 Komoran을 이용한 토크나이징"
      ]
    },
    {
      "cell_type": "code",
      "metadata": {
        "colab": {
          "base_uri": "https://localhost:8080/"
        },
        "id": "8gUU99aZ-eBN",
        "outputId": "4ccdc9dd-27d5-4049-c263-e9d06572de65"
      },
      "source": [
        "from konlpy.tag import Komoran\n",
        "\n",
        "komoran = Komoran()\n",
        "def komoran_tokenizer(sent):\n",
        "    words = komoran.pos(sent, join=True)\n",
        "    words = [w for w in words if ('/NN' in w or '/XR' in w or '/VA' in w or '/VV' in w)]\n",
        "    return words\n",
        "\n",
        "summarizer = KeysentenceSummarizer(\n",
        "    tokenize = komoran_tokenizer,\n",
        "    min_sim = 0.3,\n",
        "    verbose = False\n",
        ")\n",
        "keysents = summarizer.summarize(test_sent, topk=3)\n",
        "for _, _, sent in keysents:\n",
        "    print(sent)"
      ],
      "execution_count": 29,
      "outputs": [
        {
          "output_type": "stream",
          "text": [
            "미성년자를 상대로 성착취 동영상을 찍게 하고 SNS 단체대화방을 통해 판매한 n번방 사건의 핵심 인물 박사가 경찰에 붙잡혔다.\n",
            "서울지방경찰청 사이버안전과는 청소년성보호법상 아동청소년이용음란물의 제작배포 등의 혐의로 n번방 사건 관계자 14명을 검거했다고 18일 밝혔다.\n",
            "지난해 2월 처음 개설된 n번방은 텔레그램 메신저를 이용해 성착취 과 영상을 공유할 목적인 단체 대화방이다.\n"
          ],
          "name": "stdout"
        }
      ]
    },
    {
      "cell_type": "markdown",
      "metadata": {
        "id": "KjDtqPub-fOY"
      },
      "source": [
        "아래는 띄어쓰기 기준으로 나뉘어진 어절에서 3음절의 subwords 를 잘라내는 토크나이저 입니다."
      ]
    },
    {
      "cell_type": "code",
      "metadata": {
        "colab": {
          "base_uri": "https://localhost:8080/"
        },
        "id": "6JOAlDef3vAF",
        "outputId": "8cd71162-3e77-43f6-e81d-beb958bb3a58"
      },
      "source": [
        "def subword_tokenizer(sent, n=3):\n",
        "    def subword(token, n):\n",
        "        if len(token) <= n:\n",
        "            return [token]\n",
        "        return [token[i:i+n] for i in range(len(token) - n + 1)]\n",
        "    return [sub for token in sent.split() for sub in subword(token, n)]\n",
        "\n",
        "summarizer = KeysentenceSummarizer(\n",
        "    tokenize = subword_tokenizer,\n",
        "    min_sim = 0.3,\n",
        "    verbose = False\n",
        ")\n",
        "keysents = summarizer.summarize(test_sent, topk=3)\n",
        "for _, _, sent in keysents:\n",
        "    print(sent)"
      ],
      "execution_count": 30,
      "outputs": [
        {
          "output_type": "stream",
          "text": [
            " n번방에 입장하려면 수십만원에서 많게는 100만원 이상 지불해야 했다.\n",
            "지난해 2월 처음 개설된 n번방은 텔레그램 메신저를 이용해 성착취 과 영상을 공유할 목적인 단체 대화방이다.\n",
            " 박사는 이것만 찍으면 돈이 입금될 것이라고 회유하기도 했다.\n"
          ],
          "name": "stdout"
        }
      ]
    },
    {
      "cell_type": "markdown",
      "metadata": {
        "id": "0BXV2cN6-3YF"
      },
      "source": [
        "summarizer 의 R 에는 각 문장 별 중요도 (PageRank 값) 가 저장되어 있습니다."
      ]
    },
    {
      "cell_type": "code",
      "metadata": {
        "colab": {
          "base_uri": "https://localhost:8080/"
        },
        "id": "jNiq6vkx-p0T",
        "outputId": "071cb7ec-9cf9-499d-d26b-43e56efd0171"
      },
      "source": [
        "summarizer.R"
      ],
      "execution_count": null,
      "outputs": [
        {
          "output_type": "execute_result",
          "data": {
            "text/plain": [
              "array([1.42685418, 0.76886053, 1.35276782, 1.06450244, 0.71411885,\n",
              "       1.0367786 , 0.75405047, 0.85304132, 1.02902577])"
            ]
          },
          "metadata": {
            "tags": []
          },
          "execution_count": 115
        }
      ]
    },
    {
      "cell_type": "code",
      "metadata": {
        "id": "x-uuuPSE_JRp"
      },
      "source": [
        ""
      ],
      "execution_count": null,
      "outputs": []
    },
    {
      "cell_type": "markdown",
      "metadata": {
        "id": "bGhL77iA-7BK"
      },
      "source": [
        "문장의 위치에 따라 중요도를 다르게 설정할 수도 있습니다. 뉴스 기사는 대부분 첫 문장이 중요합니다. 실제로 위의 예시에서도 첫 문장이 가장 중요한 핵심 문장으로 선택되었습니다. \n",
        "\n",
        "만약 마지막 문장이 중요하다고 가정한다면 이러한 정보를 bias 에 추가할 수 있습니다. numpy.ndarray 형태로 bias 를 만듭니다. \n",
        "\n",
        "마지막 문장이 다른 문장보다 10 배 중요하다고 가정하였습니다. 이를 summarize 함수의 bias 에 입력하면 가장 먼저 맨 마지막 문장이 중요한 문장으로 선택됩니다. \n",
        "\n",
        "다른 문장들 중에서도 맨 마지막 문장과 비슷할수록 상대적인 중요도가 더 커집니다."
      ]
    },
    {
      "cell_type": "code",
      "metadata": {
        "colab": {
          "base_uri": "https://localhost:8080/"
        },
        "id": "_YCep8C9-1yE",
        "outputId": "4364d6b8-13e5-4d62-95c2-cab2695388c7"
      },
      "source": [
        "import numpy as np\n",
        "\n",
        "bias = np.ones(len(test_sent))\n",
        "bias[-1] = 10\n",
        "\n",
        "keysents = summarizer.summarize(test_sent, topk=3, bias=bias)\n",
        "for _, _, sent in keysents:\n",
        "    print(sent)"
      ],
      "execution_count": null,
      "outputs": [
        {
          "output_type": "stream",
          "text": [
            " 또 법무부 안산준법지원센터 전담관찰관, 단원경찰서 특별대응팀, 경기남부경찰청 기동대 1개 제대 2030명 등이 감시활동을 펼치고 있다.\n",
            " 31일 안산준법지원센터, 경기 단원경찰서 등에 따르면 지난 12일 출소후 모습을 보이지 않았던 조두순은 크리스마스 직후, 외출허용 시간대 오전 6시밤 9시 를 이용해 밖으로 나와 거주지 인근 마트에서 장을 보는 등 30여분간 외출을 한 뒤 귀가했다.\n",
            "아동 성범죄자 조두순이 12일 오전 경기도 안산시 법무부 안산준법지원센터에서 나오고 있다.\n"
          ],
          "name": "stdout"
        }
      ]
    },
    {
      "cell_type": "code",
      "metadata": {
        "colab": {
          "base_uri": "https://localhost:8080/"
        },
        "id": "Hr0ZY1qM_FUC",
        "outputId": "d2640350-b442-4db3-a0ac-013478753887"
      },
      "source": [
        "summarizer.R"
      ],
      "execution_count": null,
      "outputs": [
        {
          "output_type": "execute_result",
          "data": {
            "text/plain": [
              "array([1.47958208, 0.53629924, 1.49208341, 0.75621585, 0.47807554,\n",
              "       1.1434597 , 0.58039078, 0.58950038, 1.94439302])"
            ]
          },
          "metadata": {
            "tags": []
          },
          "execution_count": 119
        }
      ]
    },
    {
      "cell_type": "code",
      "metadata": {
        "id": "fa_yVgZt_FjU"
      },
      "source": [
        ""
      ],
      "execution_count": null,
      "outputs": []
    },
    {
      "cell_type": "markdown",
      "metadata": {
        "id": "zebTgxUZHcQZ"
      },
      "source": [
        "## KR-WordRank"
      ]
    },
    {
      "cell_type": "code",
      "metadata": {
        "id": "jSlo6-odsE3m"
      },
      "source": [
        "sents = origin_sets.copy()"
      ],
      "execution_count": 98,
      "outputs": []
    },
    {
      "cell_type": "code",
      "metadata": {
        "colab": {
          "base_uri": "https://localhost:8080/"
        },
        "id": "aOrN4gECHfXu",
        "outputId": "f9d0f2af-7953-498c-aad1-49b75af1e6cf"
      },
      "source": [
        "rgxSplitter = re.compile('([.])')\n",
        "ch = rgxSplitter.split(sents[2435])\n",
        "test_sent = []\n",
        "for s in map(lambda a, b: a + b, ch[::2], ch[1::2]):\n",
        "    test_sent.append(s)\n",
        "\n",
        "test_sent"
      ],
      "execution_count": 99,
      "outputs": [
        {
          "output_type": "execute_result",
          "data": {
            "text/plain": [
              "['미성년자를 상대로 성착취 동영상을 찍게 하고 SNS 단체대화방을 통해 판매한 n번방 사건의 핵심 인물 박사가 경찰에 붙잡혔다.',\n",
              " ' 지난 2월 1일 21만9000여 명이 청와대 국민청원을 통해 사태의 근본적인 해결을 요구하고 나선 지 40여 일 만이다.',\n",
              " ' 조사 결과 범행에 피해자를 동원한 정황도 드러났다.',\n",
              " '서울지방경찰청 사이버안전과는 청소년성보호법상 아동청소년이용음란물의 제작배포 등의 혐의로 n번방 사건 관계자 14명을 검거했다고 18일 밝혔다.',\n",
              " ' 이 가운데 박사 조 모씨 등 4명에 대해선 구속 영장을 신청했다.',\n",
              " ' 구속 전 피의자 심문 영장실질심사 은 19일 오후 3시 서울중앙지법에서 원정숙 영장전담 부장판사 심리로 열린다.',\n",
              " '조씨는 현재 자신이 박사라는 것을 부정하고 있는 것으로 알려졌다.',\n",
              " ' 그는 조사를 받는 도중 자해를 시도했다.',\n",
              " ' 신종 코로나바이러스 감염증 코로나 의심증상을 보여 소동이 일기도 했다.',\n",
              " ' 검사 결과는 음성이다.',\n",
              " '지난해 2월 처음 개설된 n번방은 텔레그램 메신저를 이용해 성착취 과 영상을 공유할 목적인 단체 대화방이다.',\n",
              " ' 수사망을 따돌리기 위해 산발적으로 수많은 방이 만들어졌다가 없어지기를 반복해 n번방이라는 이름이 붙었다.',\n",
              " ' 보안을 위해 성착취에 가담하지 않는 참여자는 퇴장시킨다는 규칙도 적용했다.',\n",
              " '범인들이 텔레그램을 쓴 건 해외에 서버를 두고 있어 압수수색 등이 어렵고 대화 내역을 지우는 기능이 있기 때문이다.',\n",
              " ' n번방에 입장하려면 수십만원에서 많게는 100만원 이상 지불해야 했다.',\n",
              " ' 한 방에만 수천 명 이상이 들어가 있었다고 한다.',\n",
              " ' 주범들이 소녀들을 꼬드겨 성착취 동영상을 찍게 하고 넘겨받은 뒤 유포하는 수법이었다.',\n",
              " '처음 n번방을 만들기 시작한 건 갓갓이다.',\n",
              " '갓갓에 이어 와치맨이 등장했다.',\n",
              " ' 그는 2016년 폐쇄된 성착취물 유통 웹사이트 소라넷의 계보를 잇겠다고 선언했다.',\n",
              " ' 그 뒤에 박사가 조명을 받았다.',\n",
              " ' 지난해 7월 활동을 시작한 박사는 더욱 치밀한 방법으로 더욱 자극적인 성착취물을 퍼뜨리며 인기를 끌었다.',\n",
              " '구체적인 박사의 범행 수법은 다음과 같다.',\n",
              " ' 피해 여성에게 고액 아르바이트 자리를 소개해준다며 접근했다.',\n",
              " ' 그러면서 급여 지급을 핑계로 개인정보 주민등록번호계좌번호얼굴 등 를 받아냈다.',\n",
              " ' 시키는 대로 하지 않으면 주변인에게 알리겠다고 협박하기 위해서다.',\n",
              " ' 살해 위협도 가했다.',\n",
              " ' 박사는 이것만 찍으면 돈이 입금될 것이라고 회유하기도 했다.',\n",
              " ' 점차 수위 높은 성착취물을 받아낸 비결이다.',\n",
              " '박사를 포함한 단체대화방 참여자들은 피해자를 노예라고 불렀다.',\n",
              " ' 박사는 피해자의 신체 일부에 칼로 노예나 박사라는 말을 새기게 하고, 새끼손가락을 들게 해 박사의 지시에 따른 것을 알아볼 수 있게 했다.',\n",
              " ' 거래는 비트코인 등 암호화폐로 진행해 수사기관의 추적을 피했다.',\n",
              " '박사는 피해자를 시켜 다른 피해자를 데려오도록 한 것으로도 전해졌다.',\n",
              " ' 김갑식 서울지방경찰청 수사부장은 피해자가 피의자가 돼 있기도 했다며 이들의 경우 범행에 가담한 자발성이 어느 정도인지 조사하고 있다고 말했다.',\n",
              " ' 경찰은 비슷한 범행이 다른 메신저 디스코드에서도 이뤄지고 있는 정황을 잡고 수사를 확대하는 중이다.']"
            ]
          },
          "metadata": {
            "tags": []
          },
          "execution_count": 99
        }
      ]
    },
    {
      "cell_type": "markdown",
      "metadata": {
        "id": "B3H9u2yfJNYU"
      },
      "source": [
        "KR-WordRank 를 이용하여 키워드를 학습합니다."
      ]
    },
    {
      "cell_type": "code",
      "metadata": {
        "colab": {
          "base_uri": "https://localhost:8080/"
        },
        "id": "2ZlEc2ByIIIJ",
        "outputId": "11ebadd8-49c4-419f-e47d-2f5a3b0700cf"
      },
      "source": [
        "from krwordrank.word import KRWordRank\n",
        "\n",
        "wordrank_extractor = KRWordRank(\n",
        "    min_count = 5, # 단어의 최소 출현 빈도수 (그래프 생성 시)\n",
        "    max_length = 10, # 단어의 최대 길이\n",
        "    verbose = True\n",
        "    )\n",
        "\n",
        "beta = 0.85    # PageRank의 decaying factor beta\n",
        "max_iter = 10\n",
        "\n",
        "keywords, rank, graph = wordrank_extractor.extract(test_sent, beta, max_iter, num_keywords=100)"
      ],
      "execution_count": 116,
      "outputs": [
        {
          "output_type": "stream",
          "text": [
            "scan vocabs ... \n",
            "num vocabs = 46\n",
            "done\n"
          ],
          "name": "stdout"
        }
      ]
    },
    {
      "cell_type": "markdown",
      "metadata": {
        "id": "ja9jIITEJQtM"
      },
      "source": [
        "make_vocab_score 함수는 keywords 와 stopwords 를 이용하여 MaxScoreTokenizer 가 이용하는 단어 점수를 만드는 과정입니다.\n",
        "\n",
        "\n",
        "MaxScoreTokenizer 는 soynlp 의 토크나이저 입니다."
      ]
    },
    {
      "cell_type": "code",
      "metadata": {
        "id": "v_LyzlcjIKtF"
      },
      "source": [
        "from krwordrank.sentence import make_vocab_score\n",
        "from krwordrank.sentence import MaxScoreTokenizer\n",
        "\n",
        "\n",
        "#stopwords = sorted(keywords.items())[0][0]\n",
        "stopwords = {}\n",
        "vocab_score = make_vocab_score(keywords, stopwords, scaling=lambda x:1)\n",
        "tokenizer = MaxScoreTokenizer(vocab_score)"
      ],
      "execution_count": 127,
      "outputs": []
    },
    {
      "cell_type": "markdown",
      "metadata": {
        "id": "q_Ty7Wk2JTWa"
      },
      "source": [
        "\n",
        "Key sentence 를 추출하는데 필요한 정보는 keyword 뿐이기 때문에 토크나이징이 아주 정교하게 작동하지는 않습니다. 문장에서 키워드를 단어로 추출하는 역할만 합니다."
      ]
    },
    {
      "cell_type": "markdown",
      "metadata": {
        "id": "WR6PUEGyJYbz"
      },
      "source": [
        "penalty 함수를 설정하고, 이들을 keysentence 함수에 입력합니다.\n",
        "\n",
        " 여기에서의 topk 는 핵심 문장의 개수입니다."
      ]
    },
    {
      "cell_type": "code",
      "metadata": {
        "colab": {
          "base_uri": "https://localhost:8080/"
        },
        "id": "z8x0p9szrq-d",
        "outputId": "55bcf53f-292c-487d-8fc3-258d8ae50e91"
      },
      "source": [
        "from krwordrank.sentence import keysentence\n",
        "\n",
        "penalty = lambda x: 0 if 25 <= len(x) <= 80 else 1\n",
        "\n",
        "sents = keysentence(\n",
        "    vocab_score, test_sent, tokenizer.tokenize,\n",
        "    penalty=penalty,\n",
        "    diversity=0.3,\n",
        "    topk=3\n",
        ")\n",
        "\n",
        "for sent in sents:\n",
        "    print(sent)"
      ],
      "execution_count": 128,
      "outputs": [
        {
          "output_type": "stream",
          "text": [
            "미성년자를 상대로 성착취 동영상을 찍게 하고 SNS 단체대화방을 통해 판매한 n번방 사건의 핵심 인물 박사가 경찰에 붙잡혔다.\n",
            " 박사는 피해자의 신체 일부에 칼로 노예나 박사라는 말을 새기게 하고, 새끼손가락을 들게 해 박사의 지시에 따른 것을 알아볼 수 있게 했다.\n",
            "서울지방경찰청 사이버안전과는 청소년성보호법상 아동청소년이용음란물의 제작배포 등의 혐의로 n번방 사건 관계자 14명을 검거했다고 18일 밝혔다.\n"
          ],
          "name": "stdout"
        }
      ]
    },
    {
      "cell_type": "markdown",
      "metadata": {
        "id": "z2hMTOhVJlIj"
      },
      "source": [
        "위의 예시에서 diversity 를 키우면 핵심 문장 점수가 높은 문장과 cosine distance 가 diversity 보다 작고 점수가 낮은 문장은 선택되지 않습니다."
      ]
    },
    {
      "cell_type": "code",
      "metadata": {
        "colab": {
          "base_uri": "https://localhost:8080/"
        },
        "id": "RLtSOtHnJk20",
        "outputId": "7df41c30-b6ae-4773-f6fa-9f4cb6cf4d69"
      },
      "source": [
        "from krwordrank.sentence import keysentence\n",
        "\n",
        "penalty = lambda x: 0 if 25 <= len(x) <= 80 else 1\n",
        "\n",
        "sents = keysentence(\n",
        "    vocab_score, test_sent, tokenizer.tokenize,\n",
        "    penalty=penalty,\n",
        "    diversity=0.5,\n",
        "    topk=3\n",
        ")\n",
        "\n",
        "for sent in sents:\n",
        "    print(sent)"
      ],
      "execution_count": 134,
      "outputs": [
        {
          "output_type": "stream",
          "text": [
            "미성년자를 상대로 성착취 동영상을 찍게 하고 SNS 단체대화방을 통해 판매한 n번방 사건의 핵심 인물 박사가 경찰에 붙잡혔다.\n",
            " 박사는 피해자의 신체 일부에 칼로 노예나 박사라는 말을 새기게 하고, 새끼손가락을 들게 해 박사의 지시에 따른 것을 알아볼 수 있게 했다.\n",
            "서울지방경찰청 사이버안전과는 청소년성보호법상 아동청소년이용음란물의 제작배포 등의 혐의로 n번방 사건 관계자 14명을 검거했다고 18일 밝혔다.\n"
          ],
          "name": "stdout"
        }
      ]
    },
    {
      "cell_type": "markdown",
      "metadata": {
        "id": "ggCv4aokAYkq"
      },
      "source": [
        "## 키워드 추출"
      ]
    },
    {
      "cell_type": "markdown",
      "metadata": {
        "id": "hxzNT6Ni14kg"
      },
      "source": [
        "TextRank 에서는 word cooccurrence graph 를 만들 때 명사와 동사 등을 이용할 것을 제안하였습니다. 이는 조사나 관사와 같이 의미를 지니지 않으면서도 자주 이용되는 단어들이 높은 PageRank 를 가지게 되는 것을 방지하기 위해서입니다.\n",
        "\n",
        "Komoran 에서의 명사 (NN), 어근 (XR), 형용사 (VA), 동사 (VV) 만을 이용하여 word cooccurrence graph 를 만듭니다. window 를 -1 로 설정하면 한 문장에서 얼마나 떨어져 있던지 상관없이 cooccurrence 를 계산하며, window 가 1 보다 클 경우에는 해당 간격만큼만 떨어진 단어들 간에만 cooccurrence 를 인정합니다."
      ]
    },
    {
      "cell_type": "code",
      "metadata": {
        "id": "VpecAjfO1kKP"
      },
      "source": [
        "from textrank import summarizer\n",
        "from textrank.summarizer import KeywordSummarizer\n",
        "from textrank.summarizer import KeysentenceSummarizer\n",
        "\n",
        "def komoran_tokenize(sent):\n",
        "    words = komoran.pos(sent, join=True)\n",
        "    words = [w for w in words if ('/NN' in w or '/XR' in w or '/VA' in w or '/VV' in w)]\n",
        "    return words\n",
        "    \n",
        "keyword_extractor = KeywordSummarizer(\n",
        "    tokenize = komoran_tokenize,\n",
        "    window = 2,\n",
        "    verbose = False\n",
        ")\n",
        "\n",
        "keywords = keyword_extractor.summarize(origin, topk=30)\n",
        "\n",
        "# 단어 옆 괄호는 TextRank 로부터 계산된 랭킹값 입니다. \n",
        "# 단어 간 상대적인 중요도로 해석할 수 있습니다.\n",
        "for word, rank in keywords:\n",
        "    print('{} ({:.3})'.format(word, rank))"
      ],
      "execution_count": null,
      "outputs": []
    }
  ]
}