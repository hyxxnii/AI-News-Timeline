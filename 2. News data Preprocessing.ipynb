{
 "cells": [
  {
   "cell_type": "markdown",
   "metadata": {},
   "source": [
    "### 뉴스 데이터 전처리"
   ]
  },
  {
   "cell_type": "code",
   "execution_count": 5,
   "metadata": {},
   "outputs": [],
   "source": [
    "import re\n",
    "import pandas as pd\n",
    "\n",
    "accident_df = pd.read_csv('./data/accident_df.csv', usecols=['date','title','body','category'])\n",
    "welfare_df = pd.read_csv('./data/welfare_df.csv', usecols=['date','title','body','category'])"
   ]
  },
  {
   "cell_type": "code",
   "execution_count": 7,
   "metadata": {
    "scrolled": true
   },
   "outputs": [
    {
     "data": {
      "text/html": [
       "<div>\n",
       "<style scoped>\n",
       "    .dataframe tbody tr th:only-of-type {\n",
       "        vertical-align: middle;\n",
       "    }\n",
       "\n",
       "    .dataframe tbody tr th {\n",
       "        vertical-align: top;\n",
       "    }\n",
       "\n",
       "    .dataframe thead th {\n",
       "        text-align: right;\n",
       "    }\n",
       "</style>\n",
       "<table border=\"1\" class=\"dataframe\">\n",
       "  <thead>\n",
       "    <tr style=\"text-align: right;\">\n",
       "      <th></th>\n",
       "      <th>date</th>\n",
       "      <th>title</th>\n",
       "      <th>body</th>\n",
       "      <th>category</th>\n",
       "    </tr>\n",
       "  </thead>\n",
       "  <tbody>\n",
       "    <tr>\n",
       "      <th>0</th>\n",
       "      <td>2020-12-31</td>\n",
       "      <td>회장은 구속, 노조는 임원 폭행…유성기업 10년 노사갈등 끝</td>\n",
       "      <td>2011년 5월부터 10년간 극심한 노사갈등을 빚어온 충남 아산의 유성기업이 분쟁에...</td>\n",
       "      <td>3</td>\n",
       "    </tr>\n",
       "    <tr>\n",
       "      <th>1</th>\n",
       "      <td>2020-12-31</td>\n",
       "      <td>‘부러진 화살’ 정지영 감독 스태프 지원금 횡령 혐의 송치</td>\n",
       "      <td>정지영 감독. 권혁재 기자\\n \\n영화 ‘부러진 화살’ 등을 연출한 정지영 감독과 ...</td>\n",
       "      <td>3</td>\n",
       "    </tr>\n",
       "    <tr>\n",
       "      <th>2</th>\n",
       "      <td>2020-12-31</td>\n",
       "      <td>조두순 보름만에 첫 외출...신호 울린 순간, 경찰 뒤쫓았다</td>\n",
       "      <td>아동 성범죄자 조두순이 12일 오전 경기도 안산시 법무부 안산준법지원센터에서 나오고...</td>\n",
       "      <td>3</td>\n",
       "    </tr>\n",
       "    <tr>\n",
       "      <th>3</th>\n",
       "      <td>2020-12-31</td>\n",
       "      <td>올해 자동차 '안전도 평가 1위' 제네시스 G80...최하위는</td>\n",
       "      <td>사진 크게보기\\nG80이 올해 자동차 안전도 평가에서 1위를 차지했다. [사진 제네...</td>\n",
       "      <td>3</td>\n",
       "    </tr>\n",
       "    <tr>\n",
       "      <th>4</th>\n",
       "      <td>2020-12-30</td>\n",
       "      <td>눈보라 휘몰아치는 제주…대설·강풍·풍랑특보에 하늘길 막혔다</td>\n",
       "      <td>사진 크게보기\\n제주도 산간에 대설경보가 내려진 30일 오전 제주시의 한 중산간도로...</td>\n",
       "      <td>3</td>\n",
       "    </tr>\n",
       "  </tbody>\n",
       "</table>\n",
       "</div>"
      ],
      "text/plain": [
       "         date                               title  \\\n",
       "0  2020-12-31   회장은 구속, 노조는 임원 폭행…유성기업 10년 노사갈등 끝   \n",
       "1  2020-12-31    ‘부러진 화살’ 정지영 감독 스태프 지원금 횡령 혐의 송치   \n",
       "2  2020-12-31   조두순 보름만에 첫 외출...신호 울린 순간, 경찰 뒤쫓았다   \n",
       "3  2020-12-31  올해 자동차 '안전도 평가 1위' 제네시스 G80...최하위는   \n",
       "4  2020-12-30    눈보라 휘몰아치는 제주…대설·강풍·풍랑특보에 하늘길 막혔다   \n",
       "\n",
       "                                                body  category  \n",
       "0  2011년 5월부터 10년간 극심한 노사갈등을 빚어온 충남 아산의 유성기업이 분쟁에...         3  \n",
       "1  정지영 감독. 권혁재 기자\\n \\n영화 ‘부러진 화살’ 등을 연출한 정지영 감독과 ...         3  \n",
       "2  아동 성범죄자 조두순이 12일 오전 경기도 안산시 법무부 안산준법지원센터에서 나오고...         3  \n",
       "3  사진 크게보기\\nG80이 올해 자동차 안전도 평가에서 1위를 차지했다. [사진 제네...         3  \n",
       "4  사진 크게보기\\n제주도 산간에 대설경보가 내려진 30일 오전 제주시의 한 중산간도로...         3  "
      ]
     },
     "execution_count": 7,
     "metadata": {},
     "output_type": "execute_result"
    }
   ],
   "source": [
    "accident_df.head()"
   ]
  },
  {
   "cell_type": "code",
   "execution_count": 8,
   "metadata": {},
   "outputs": [
    {
     "data": {
      "text/html": [
       "<div>\n",
       "<style scoped>\n",
       "    .dataframe tbody tr th:only-of-type {\n",
       "        vertical-align: middle;\n",
       "    }\n",
       "\n",
       "    .dataframe tbody tr th {\n",
       "        vertical-align: top;\n",
       "    }\n",
       "\n",
       "    .dataframe thead th {\n",
       "        text-align: right;\n",
       "    }\n",
       "</style>\n",
       "<table border=\"1\" class=\"dataframe\">\n",
       "  <thead>\n",
       "    <tr style=\"text-align: right;\">\n",
       "      <th></th>\n",
       "      <th>date</th>\n",
       "      <th>title</th>\n",
       "      <th>body</th>\n",
       "      <th>category</th>\n",
       "    </tr>\n",
       "  </thead>\n",
       "  <tbody>\n",
       "    <tr>\n",
       "      <th>0</th>\n",
       "      <td>2020-12-31</td>\n",
       "      <td>동부구치소 확진자 추가 땐 오후 6시까지 벌써 800명 넘어서</td>\n",
       "      <td>신종 코로나 바이러스 감염증(코로나19) 확진자가 무더기로 발생한 서울 동부구치소....</td>\n",
       "      <td>4</td>\n",
       "    </tr>\n",
       "    <tr>\n",
       "      <th>1</th>\n",
       "      <td>2020-12-31</td>\n",
       "      <td>SK바이오사이언스 코로나19 백신 1상·2상 임상시험 승인</td>\n",
       "      <td>SK바이오사이언스 연구원이 백신 개발을 위한 실험을 하고 있다. SK 제공\\n식품의...</td>\n",
       "      <td>4</td>\n",
       "    </tr>\n",
       "    <tr>\n",
       "      <th>2</th>\n",
       "      <td>2020-12-31</td>\n",
       "      <td>[속보] 정부, 모더나 백신 2000만명분 계약…2분기 도입</td>\n",
       "      <td>정부가 도입 계약을 한 모더나 코로나19 백신. AFP=연합뉴스\\n정부가 31일 제...</td>\n",
       "      <td>4</td>\n",
       "    </tr>\n",
       "    <tr>\n",
       "      <th>3</th>\n",
       "      <td>2020-12-31</td>\n",
       "      <td>끊이지 않는 요양시설 집단감염…부산 하루 69명 확진</td>\n",
       "      <td>22일 부산시청 등대광장에 마련된 임시선별검사소에서 시민이 검사를 받고 있다.부산에...</td>\n",
       "      <td>4</td>\n",
       "    </tr>\n",
       "    <tr>\n",
       "      <th>4</th>\n",
       "      <td>2020-12-31</td>\n",
       "      <td>인천공항, 장애인·치매노인 위한 여행 상품 개발 돕는다</td>\n",
       "      <td>인천국제공항공사(이하 인천공항)가 2기 ‘인천공항 가치가세’에 참여할 사회적 기업 ...</td>\n",
       "      <td>4</td>\n",
       "    </tr>\n",
       "  </tbody>\n",
       "</table>\n",
       "</div>"
      ],
      "text/plain": [
       "         date                               title  \\\n",
       "0  2020-12-31  동부구치소 확진자 추가 땐 오후 6시까지 벌써 800명 넘어서   \n",
       "1  2020-12-31    SK바이오사이언스 코로나19 백신 1상·2상 임상시험 승인   \n",
       "2  2020-12-31   [속보] 정부, 모더나 백신 2000만명분 계약…2분기 도입   \n",
       "3  2020-12-31       끊이지 않는 요양시설 집단감염…부산 하루 69명 확진   \n",
       "4  2020-12-31      인천공항, 장애인·치매노인 위한 여행 상품 개발 돕는다   \n",
       "\n",
       "                                                body  category  \n",
       "0  신종 코로나 바이러스 감염증(코로나19) 확진자가 무더기로 발생한 서울 동부구치소....         4  \n",
       "1  SK바이오사이언스 연구원이 백신 개발을 위한 실험을 하고 있다. SK 제공\\n식품의...         4  \n",
       "2  정부가 도입 계약을 한 모더나 코로나19 백신. AFP=연합뉴스\\n정부가 31일 제...         4  \n",
       "3  22일 부산시청 등대광장에 마련된 임시선별검사소에서 시민이 검사를 받고 있다.부산에...         4  \n",
       "4  인천국제공항공사(이하 인천공항)가 2기 ‘인천공항 가치가세’에 참여할 사회적 기업 ...         4  "
      ]
     },
     "execution_count": 8,
     "metadata": {},
     "output_type": "execute_result"
    }
   ],
   "source": [
    "welfare_df.head()"
   ]
  },
  {
   "cell_type": "code",
   "execution_count": 9,
   "metadata": {},
   "outputs": [],
   "source": [
    "def text_cleaning(docs):\n",
    "    \n",
    "    # ooo 기자 + 이메일 제거\n",
    "    pattern1 = re.compile(\"[\\w]+[\\w]+[\\=]+[\\w\\]+[\\w\\]+[\\w]+[\\s]+[/기]+[/자]+[\\s]+.*|\\n[\\w\\]+[\\w\\]+[\\w]+[\\s]+[/기]+[/자]+[\\s]+.*\")\n",
    "    docs = [pattern1.sub(\"\", doc) for doc in docs]\n",
    "    \n",
    "    # 한국어, 영어, 숫자, \\n, ().!?를 제외한 글자를 제거하는 함수\n",
    "    pattern2 = re.compile(\"[^\\na-zA-Z0-9ㄱ-ㅎㅏ-ㅣ가-힣 ().!?]\")\n",
    "    docs = [pattern2.sub(\" \", doc) for doc in docs]\n",
    "    \n",
    "    return docs"
   ]
  },
  {
   "cell_type": "code",
   "execution_count": 10,
   "metadata": {
    "scrolled": false
   },
   "outputs": [
    {
     "data": {
      "text/plain": [
       "0    2011년 5월부터 10년간 극심한 노사갈등을 빚어온 충남 아산의 유성기업이 분쟁에...\n",
       "1    정지영 감독. 권혁재 기자\\n \\n영화  부러진 화살  등을 연출한 정지영 감독과 ...\n",
       "2    아동 성범죄자 조두순이 12일 오전 경기도 안산시 법무부 안산준법지원센터에서 나오고...\n",
       "3    사진 크게보기\\nG80이 올해 자동차 안전도 평가에서 1위를 차지했다.  사진 제네...\n",
       "4    사진 크게보기\\n제주도 산간에 대설경보가 내려진 30일 오전 제주시의 한 중산간도로...\n",
       "Name: cleaned_body, dtype: object"
      ]
     },
     "execution_count": 10,
     "metadata": {},
     "output_type": "execute_result"
    }
   ],
   "source": [
    "accident_df['cleaned_body'] = text_cleaning(accident_df['body'])\n",
    "accident_df['cleaned_body'].head()"
   ]
  },
  {
   "cell_type": "code",
   "execution_count": 11,
   "metadata": {},
   "outputs": [
    {
     "data": {
      "text/plain": [
       "0    신종 코로나 바이러스 감염증(코로나19) 확진자가 무더기로 발생한 서울 동부구치소....\n",
       "1    SK바이오사이언스 연구원이 백신 개발을 위한 실험을 하고 있다. SK 제공\\n식품의...\n",
       "2    정부가 도입 계약을 한 모더나 코로나19 백신. AFP 연합뉴스\\n정부가 31일 제...\n",
       "3    22일 부산시청 등대광장에 마련된 임시선별검사소에서 시민이 검사를 받고 있다.부산에...\n",
       "4    인천국제공항공사(이하 인천공항)가 2기  인천공항 가치가세 에 참여할 사회적 기업 ...\n",
       "Name: cleaned_body, dtype: object"
      ]
     },
     "execution_count": 11,
     "metadata": {},
     "output_type": "execute_result"
    }
   ],
   "source": [
    "welfare_df['cleaned_body'] = text_cleaning(welfare_df['body'])\n",
    "welfare_df['cleaned_body'].head()"
   ]
  },
  {
   "cell_type": "code",
   "execution_count": 13,
   "metadata": {},
   "outputs": [],
   "source": [
    "accident_df.to_csv('./data/accident_df.csv')\n",
    "welfare_df.to_csv('./data/welfare_df.csv')"
   ]
  },
  {
   "cell_type": "code",
   "execution_count": null,
   "metadata": {},
   "outputs": [],
   "source": []
  }
 ],
 "metadata": {
  "kernelspec": {
   "display_name": "Python 3",
   "language": "python",
   "name": "python3"
  },
  "language_info": {
   "codemirror_mode": {
    "name": "ipython",
    "version": 3
   },
   "file_extension": ".py",
   "mimetype": "text/x-python",
   "name": "python",
   "nbconvert_exporter": "python",
   "pygments_lexer": "ipython3",
   "version": "3.8.5"
  }
 },
 "nbformat": 4,
 "nbformat_minor": 4
}
