{
 "cells": [
  {
   "cell_type": "code",
   "execution_count": 152,
   "metadata": {},
   "outputs": [],
   "source": [
    "import pandas as pd\n",
    "data = pd.read_csv('D:/Users/HYUN/Desktop/News_Timeline/data/education_df.csv')"
   ]
  },
  {
   "cell_type": "code",
   "execution_count": 153,
   "metadata": {},
   "outputs": [],
   "source": [
    "text = data.loc[0, 'body']"
   ]
  },
  {
   "cell_type": "code",
   "execution_count": 154,
   "metadata": {},
   "outputs": [
    {
     "data": {
      "text/plain": [
       "'한국교육과정평가원이 설립을 추진하고 있는 국가고사 출제센터(분리형) 예상 조감도 [사진 한국교육과정평가원]\\n대학수학능력시험(수능)을 출제하는 한국교육과정평가원(평가원)이 국가고사를 출제하는 전담 시설 설립을 추진하고 있다. 지금까지 매년 비밀리에 숙박업소를 빌려 수능을 출제했지만, 보안과 비용 측면에서 비효율적이라는 이유다.\\n \\n31일 교육계에 따르면 평가원은 최근 \\'국가고사 출제센터 설립 방안\\' 보고서를 발표했다. 보고서는 수능과 초·중등 임용시험 등을 출제하는 시설인 \\'국가고사 출제센터\\'의 설립 필요성에 대한 내용을 담았다. 평가원은 빠르면 2024년에 출제센터를 설립한다는 계획이다.\\n \\n\\'첩보 작전\\' 같은 수능 출제\\n수능 출제는 매년 첩보 작전을 방불케 하는 보안 속에 이뤄진다. 출제 경험이 있는 한 교수는 \"출제위원이 됐다는 문자가 오면 주변 사람에게도 알리지 못하고, 평가원이 보낸 버스를 타고 이동한다\"며 \"출제 시설은 마치 공사 중인 건물처럼 바깥에 비계와 가림막을 설치해두기도 한다\"고 말했다.\\n \\n평가원은 임대한 숙박업소의 위치와 상호도 밝히지 않는다. 관광객 등을 대상으로 한 업소를 빌리다 보니 시험을 치를 때마다 각종 보안 장비를 새로 설치한다. 야외활동을 하기 어려운 숙소에서 35일 동안 갇혀 있어야 하다 보니 출제위원 제안을 마다하는 경우도 많다.\\n \\n2018년 교육부 산하 기관이 주관한 9개 시험 출제에 들어간 임대료 등 비용 [표 한국교육과정평가원]\\n시험 출제에 객실료만 88억원…\"연간 35억원 절약 가능\"\\n보고서에 따르면 2018년 기준으로 수능 출제를 위한 객실료만 26억여원이다. 수능 모의평가 출제를 위한 객실료도 19억원이 들었다. 이 밖에 평가원이 출제하는 교사 임용시험이나 검정고시 등 9개 시험 출제에 쓴 객실료만 88억원에 달한다. 여기에 식음료비가 60억원 등 연간 출제에 쓴 임차료가 151억원에 이른다. 보고서는 출제 전담 시설을 지으면 한 해에 35억원을 아낄 수 있다고 추산했다.\\n \\n평가원은 안정성과 보안도 센터 건립의 근거로 꼽았다. 현재 출제 시설로 쓰는 리조트나 유스호스텔 등 숙박업소의 보안이 취약하다는 것이다. 평가원 관계자는 \"임시 시설이라 해킹 위협 때문에 간단한 온라인 작업도 할 수 없고, 화상회의 등 첨단 시스템도 활용할 수 없다\"며 \"전담 시설이 생기면 얼굴 인식 출입시스템이나 각종 보안 장비를 갖출 수 있다\"고 말했다.\\n2017년 11월 16일 경북 포항시 흥해읍 흥해실내체육관에서 지진으로 대피해 온 한 학생이 책을 펴고 공부하고 있다. [중앙포토]\\n \\n포항지진으로 수능이 연기된 2017년 사례와 신종 코로나바이러스 감염증(코로나19)도 위협 요인으로 꼽았다. 평가원 관계자는 \"자연재해가 발생하거나 전염병 감염 등 돌발상황이 생기면 국가고사 진행이 어려울 수 있다\"고 말했다.\\n \\n설립 비용 2000억원…평가원 \"2024년 설립 목표\"\\n평가원은 충북 청주시와 강원 평창군의 등을 출제센터 후보지로 꼽고 있다. 민간업체의 호텔이나 콘도를 임대형 민간투자사업(BTL) 방식으로 빌리는 방안도 검토 중이다. 센터 규모는 수능 출제 인원 700명과 지원 인력 300명이 함께 이용할 수 있는 1000명 규모로 예상된다.\\n성기선 한국교육과정평가원장이 지난 3일 정부세종청사 교육부 브리핑실에서 2021학년도 대학수학능력시험 출제방향 브리핑을 하고 있다. 뉴스1\\n \\n문제는 건립 비용이다. 평가원은 부지 매입비 270억원, 공사비 1800억원 등 총 2070억원이 필요할 것으로 추산했다. 평가원은 정부에 센터 건립 예산을 요청했지만 기획재정부가 경제성 문제를 지적하며 반려한 것으로 알려졌다. 주요 시험이 몰려있는 연말 이외에 활용률이 떨어진다는 지적에 대해 평가원 관계자는 \"다른 기관의 국가고사 출제도 함께 하고, 시험 일정을 조정하는 등의 대안을 고민하고 있다\"고 밝혔다. 평가원은 내년에도 센터 건립을 계속 추진할 방침이다.\\n \\n남궁민 기자 namgung.min@joongang.co.kr'"
      ]
     },
     "execution_count": 154,
     "metadata": {},
     "output_type": "execute_result"
    }
   ],
   "source": [
    "text"
   ]
  },
  {
   "cell_type": "code",
   "execution_count": 157,
   "metadata": {
    "scrolled": true
   },
   "outputs": [
    {
     "name": "stdout",
     "output_type": "stream",
     "text": [
      "Requirement already satisfied: networkx in c:\\programdata\\anaconda3\\lib\\site-packages (2.5)\n",
      "Requirement already satisfied: decorator>=4.3.0 in c:\\programdata\\anaconda3\\lib\\site-packages (from networkx) (4.4.2)\n"
     ]
    }
   ],
   "source": [
    "# 페이지랭크 계산에 networkx 패키지를 사용하므로, networkx 우선 설치\n",
    "# ! pip install networkx"
   ]
  },
  {
   "cell_type": "code",
   "execution_count": 158,
   "metadata": {},
   "outputs": [],
   "source": [
    "import networkx\n",
    "import re"
   ]
  },
  {
   "cell_type": "code",
   "execution_count": 159,
   "metadata": {},
   "outputs": [],
   "source": [
    "class RawSentence:\n",
    "    def __init__(self, textIter):\n",
    "        if type(textIter) == str: self.textIter = textIter.split('\\n')\n",
    "        else: self.textIter = textIter\n",
    "        self.rgxSplitter = re.compile('([.!?:](?:[\"\\']|(?![0-9])))')\n",
    " \n",
    "    def __iter__(self):\n",
    "        for line in self.textIter:\n",
    "            ch = self.rgxSplitter.split(line)\n",
    "            for s in map(lambda a, b: a + b, ch[::2], ch[1::2]):\n",
    "                if not s: continue\n",
    "                yield s"
   ]
  },
  {
   "cell_type": "code",
   "execution_count": 160,
   "metadata": {},
   "outputs": [],
   "source": [
    "\n",
    "class RawSentenceReader:\n",
    "    def __init__(self, textIter):\n",
    "        self.rgxSplitter = re.compile('([.!?:](?:[\"\\']|(?![0-9])))')\n",
    "        if type(textIter) == str: self.textIter = textIter.split('\\n')\n",
    "        else: self.textIter = textIter\n",
    "    def __iter__(self):\n",
    "        for line in self.textIter:\n",
    "            ch = self.rgxSplitter.split(line)\n",
    "            for s in map(lambda a, b: a + b, ch[::2], ch[1::2]):\n",
    "                if not s: continue\n",
    "                yield s"
   ]
  },
  {
   "cell_type": "code",
   "execution_count": 161,
   "metadata": {},
   "outputs": [],
   "source": [
    "class TextRank:\n",
    "    def __init__(self, **kargs):\n",
    "        self.graph = None\n",
    "        self.window = kargs.get('window', 5)\n",
    "        self.coef = kargs.get('coef', 1.0)\n",
    "        self.threshold = kargs.get('threshold', 0.005)\n",
    "        self.dictCount = {}\n",
    "        self.dictBiCount = {}\n",
    "        self.dictNear = {}\n",
    "        self.nTotal = 0\n",
    "\n",
    "    def loadSents(self, sentenceIter, tokenizer = None):\n",
    "        import math\n",
    "        def similarity(a, b):\n",
    "            n = len(a.intersection(b))\n",
    "            return n / float(len(a) + len(b) - n) / (math.log(len(a)+1) * math.log(len(b)+1))\n",
    " \n",
    "        if not tokenizer: rgxSplitter = re.compile('[\\\\s.,:;-?!()\"\\']+')\n",
    "        sentSet = []\n",
    "        for sent in filter(None, sentenceIter):\n",
    "            if type(sent) == str:\n",
    "                if tokenizer: s = set(filter(None, tokenizer(sent)))\n",
    "                else: s = set(filter(None, rgxSplitter.split(sent)))\n",
    "            else: s = set(sent)\n",
    "            if len(s) < 2: continue\n",
    "            self.dictCount[len(self.dictCount)] = sent\n",
    "            sentSet.append(s)\n",
    " \n",
    "        for i in range(len(self.dictCount)):\n",
    "            for j in range(i+1, len(self.dictCount)):\n",
    "                s = similarity(sentSet[i], sentSet[j])\n",
    "                if s < self.threshold: continue\n",
    "                self.dictBiCount[i, j] = s\n",
    "    def build(self):\n",
    "        self.graph = networkx.Graph()\n",
    "        self.graph.add_nodes_from(self.dictCount.keys())\n",
    "        for (a, b), n in self.dictBiCount.items():\n",
    "            self.graph.add_edge(a, b, weight=n*self.coef + (1-self.coef))\n",
    " \n",
    "    def rank(self):\n",
    "        return networkx.pagerank(self.graph, weight='weight')\n",
    "    \n",
    "    def summarize(self, ratio = 0.333):\n",
    "        r = self.rank()\n",
    "        ks = sorted(r, key=r.get, reverse=True)[:int(len(r)*ratio)]\n",
    "        return ' '.join(map(lambda k:self.dictCount[k], sorted(ks)))"
   ]
  },
  {
   "cell_type": "code",
   "execution_count": 162,
   "metadata": {},
   "outputs": [],
   "source": [
    "from konlpy.tag import Komoran"
   ]
  },
  {
   "cell_type": "code",
   "execution_count": 163,
   "metadata": {},
   "outputs": [],
   "source": [
    "tagger = Komoran()"
   ]
  },
  {
   "cell_type": "code",
   "execution_count": 166,
   "metadata": {},
   "outputs": [
    {
     "name": "stdout",
     "output_type": "stream",
     "text": [
      "Load...\n",
      "Build...\n",
      "4\t0.055865510340723894\t 평가원은 빠르면 2024년에 출제센터를 설립한다는 계획이다.\n",
      "15\t0.04977864896507011\t평가원은 안정성과 보안도 센터 건립의 근거로 꼽았다.\n",
      "16\t0.04913090146928172\t 현재 출제 시설로 쓰는 리조트나 유스호스텔 등 숙박업소의 보안이 취약하다는 것이다.\n",
      "21\t0.0490249601000795\t평가원은 충북 청주시와 강원 평창군의 등을 출제센터 후보지로 꼽고 있다.\n",
      "2\t0.04880467793300228\t31일 교육계에 따르면 평가원은 최근 '국가고사 출제센터 설립 방안' 보고서를 발표했다.\n",
      "11\t0.04737238094534879\t 수능 모의평가 출제를 위한 객실료도 19억원이 들었다.\n",
      "10\t0.04678290887467502\t보고서에 따르면 2018년 기준으로 수능 출제를 위한 객실료만 26억여원이다.\n",
      "14\t0.04655755275633939\t 보고서는 출제 전담 시설을 지으면 한 해에 35억원을 아낄 수 있다고 추산했다.\n",
      "29\t0.045645185780831585\t 평가원은 내년에도 센터 건립을 계속 추진할 방침이다.\n",
      "5\t0.045622498403870906\t수능 출제는 매년 첩보 작전을 방불케 하는 보안 속에 이뤄진다.\n",
      "0\t0.04448024546229008\t대학수학능력시험(수능)을 출제하는 한국교육과정평가원(평가원)이 국가고사를 출제하는 전담 시설 설립을 추진하고 있다.\n",
      "12\t0.041040021886365505\t 이 밖에 평가원이 출제하는 교사 임용시험이나 검정고시 등 9개 시험 출제에 쓴 객실료만 88억원에 달한다.\n",
      "3\t0.040622607043385744\t 보고서는 수능과 초·중등 임용시험 등을 출제하는 시설인 '국가고사 출제센터'의 설립 필요성에 대한 내용을 담았다.\n",
      "23\t0.03996613076639555\t 센터 규모는 수능 출제 인원 700명과 지원 인력 300명이 함께 이용할 수 있는 1000명 규모로 예상된다.\n",
      "1\t0.036583803783350625\t 지금까지 매년 비밀리에 숙박업소를 빌려 수능을 출제했지만, 보안과 비용 측면에서 비효율적이라는 이유다.\n",
      "13\t0.03600684918788613\t 여기에 식음료비가 60억원 등 연간 출제에 쓴 임차료가 151억원에 이른다.\n",
      "27\t0.03009442786215966\t 평가원은 정부에 센터 건립 예산을 요청했지만 기획재정부가 경제성 문제를 지적하며 반려한 것으로 알려졌다.\n",
      "7\t0.028118793441858983\t평가원은 임대한 숙박업소의 위치와 상호도 밝히지 않는다.\n",
      "28\t0.02615599655278339\t 주요 시험이 몰려있는 연말 이외에 활용률이 떨어진다는 지적에 대해 평가원 관계자는 \"다른 기관의 국가고사 출제도 함께 하고, 시험 일정을 조정하는 등의 대안을 고민하고 있다\"고 밝혔다.\n",
      "26\t0.023656616133713396\t 평가원은 부지 매입비 270억원, 공사비 1800억원 등 총 2070억원이 필요할 것으로 추산했다.\n",
      "9\t0.021629444412619363\t 야외활동을 하기 어려운 숙소에서 35일 동안 갇혀 있어야 하다 보니 출제위원 제안을 마다하는 경우도 많다.\n",
      "25\t0.021426341622820214\t문제는 건립 비용이다.\n",
      "6\t0.02077648075482968\t 출제 경험이 있는 한 교수는 \"출제위원이 됐다는 문자가 오면 주변 사람에게도 알리지 못하고, 평가원이 보낸 버스를 타고 이동한다\"며 \"출제 시설은 마치 공사 중인 건물처럼 바깥에 비계와 가림막을 설치해두기도 한다\"고 말했다.\n",
      "24\t0.020578687817102363\t성기선 한국교육과정평가원장이 지난 3일 정부세종청사 교육부 브리핑실에서 2021학년도 대학수학능력시험 출제방향 브리핑을 하고 있다.\n",
      "20\t0.01959182815273152\t 평가원 관계자는 \"자연재해가 발생하거나 전염병 감염 등 돌발상황이 생기면 국가고사 진행이 어려울 수 있다\"고 말했다.\n",
      "17\t0.016455211714386568\t 평가원 관계자는 \"임시 시설이라 해킹 위협 때문에 간단한 온라인 작업도 할 수 없고, 화상회의 등 첨단 시스템도 활용할 수 없다\"며 \"전담 시설이 생기면 얼굴 인식 출입시스템이나 각종 보안 장비를 갖출 수 있다\"고 말했다.\n",
      "19\t0.014622625140904049\t포항지진으로 수능이 연기된 2017년 사례와 신종 코로나바이러스 감염증(코로나19)도 위협 요인으로 꼽았다.\n",
      "8\t0.014291596999467334\t 관광객 등을 대상으로 한 업소를 빌리다 보니 시험을 치를 때마다 각종 보안 장비를 새로 설치한다.\n",
      "22\t0.007639372354627324\t 민간업체의 호텔이나 콘도를 임대형 민간투자사업(BTL) 방식으로 빌리는 방안도 검토 중이다.\n",
      "18\t0.006702568962989687\t2017년 11월 16일 경북 포항시 흥해읍 흥해실내체육관에서 지진으로 대피해 온 한 학생이 책을 펴고 공부하고 있다.\n",
      "30\t0.00497512437810946\t남궁민 기자 namgung.\n"
     ]
    }
   ],
   "source": [
    "tr = TextRank()\n",
    "print('Load...')\n",
    "stopword = set([('있', 'VV'), ('하', 'VV'), ('되', 'VV') ])\n",
    "tr.loadSents(RawSentenceReader(text), lambda sent: filter(lambda x:x not in stopword and x[1] in ('NNG', 'NNP', 'VV', 'VA'), tagger.pos(sent))) # 'NNG'일반명사, 'NNP'고유명사, 'VV'동사, 'VA'형용사\n",
    "print('Build...')\n",
    "tr.build()\n",
    "ranks = tr.rank()\n",
    "for k in sorted(ranks, key=ranks.get, reverse=True)[:100]:\n",
    "    # 문장번호, 페이지랭크, 문장원문 순서로 출력\n",
    "    print(\"\\t\".join([str(k), str(ranks[k]), str(tr.dictCount[k])]))"
   ]
  },
  {
   "cell_type": "code",
   "execution_count": 167,
   "metadata": {},
   "outputs": [
    {
     "name": "stdout",
     "output_type": "stream",
     "text": [
      "31일 교육계에 따르면 평가원은 최근 '국가고사 출제센터 설립 방안' 보고서를 발표했다.  평가원은 빠르면 2024년에 출제센터를 설립한다는 계획이다.  수능 모의평가 출제를 위한 객실료도 19억원이 들었다. 평가원은 안정성과 보안도 센터 건립의 근거로 꼽았다.  현재 출제 시설로 쓰는 리조트나 유스호스텔 등 숙박업소의 보안이 취약하다는 것이다. 평가원은 충북 청주시와 강원 평창군의 등을 출제센터 후보지로 꼽고 있다.\n"
     ]
    }
   ],
   "source": [
    "# 중요한 문장 순서로 정렬 후 문서의 20% 출력 \n",
    "print(tr.summarize(0.2))"
   ]
  }
 ],
 "metadata": {
  "kernelspec": {
   "display_name": "Python 3",
   "language": "python",
   "name": "python3"
  },
  "language_info": {
   "codemirror_mode": {
    "name": "ipython",
    "version": 3
   },
   "file_extension": ".py",
   "mimetype": "text/x-python",
   "name": "python",
   "nbconvert_exporter": "python",
   "pygments_lexer": "ipython3",
   "version": "3.8.5"
  }
 },
 "nbformat": 4,
 "nbformat_minor": 4
}
